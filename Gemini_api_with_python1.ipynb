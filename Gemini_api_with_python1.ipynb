{
  "nbformat": 4,
  "nbformat_minor": 0,
  "metadata": {
    "colab": {
      "provenance": [],
      "gpuType": "T4"
    },
    "kernelspec": {
      "name": "python3",
      "display_name": "Python 3"
    },
    "language_info": {
      "name": "python"
    },
    "accelerator": "GPU"
  },
  "cells": [
    {
      "cell_type": "code",
      "execution_count": 2,
      "metadata": {
        "id": "tDLGUBsw8xbw"
      },
      "outputs": [],
      "source": [
        "! pip install -q -U google-generativeai"
      ]
    },
    {
      "cell_type": "markdown",
      "source": [
        "### Import packages\n"
      ],
      "metadata": {
        "id": "vxXjJyNR-uVy"
      }
    },
    {
      "cell_type": "code",
      "source": [
        "import google.generativeai as palm\n",
        "import pathlib\n",
        "import textwrap\n",
        "from IPython.display import display\n",
        "from IPython.display import Markdown\n",
        "import google.generativeai as genai"
      ],
      "metadata": {
        "id": "sTL59Gmb-oYS"
      },
      "execution_count": 3,
      "outputs": []
    },
    {
      "cell_type": "code",
      "source": [
        "def to_markdown(text):\n",
        "  text=text.replace('.',' *')\n",
        "  return Markdown(textwrap.indent(text,'>',predicate= lambda _:True))\n",
        "\n",
        "  # Example usage\n",
        "\n",
        "input_text=\" this is a . simple text with point\"\n",
        "result=to_markdown(input_text)\n",
        "\n",
        "\n",
        "display(result)\n"
      ],
      "metadata": {
        "colab": {
          "base_uri": "https://localhost:8080/",
          "height": 62
        },
        "id": "Zx6NhEzD_Li5",
        "outputId": "14ac9b85-a7b0-4b22-ecd0-86c1e4de43a8"
      },
      "execution_count": 4,
      "outputs": [
        {
          "output_type": "display_data",
          "data": {
            "text/plain": [
              "<IPython.core.display.Markdown object>"
            ],
            "text/markdown": "> this is a  * simple text with point"
          },
          "metadata": {}
        }
      ]
    },
    {
      "cell_type": "markdown",
      "source": [
        "Setup API Key"
      ],
      "metadata": {
        "id": "QRH3zh-riJfB"
      }
    },
    {
      "cell_type": "code",
      "source": [
        "from google.colab import userdata"
      ],
      "metadata": {
        "id": "0VwyWgi_Aqaa"
      },
      "execution_count": 5,
      "outputs": []
    },
    {
      "cell_type": "code",
      "source": [
        "GOOGLE_API_KEY=userdata.get('googleapikey')"
      ],
      "metadata": {
        "id": "cp9adR4kigi3"
      },
      "execution_count": 6,
      "outputs": []
    },
    {
      "cell_type": "code",
      "source": [
        "genai.configure(api_key=GOOGLE_API_KEY)"
      ],
      "metadata": {
        "id": "pyV7rug_i7cu"
      },
      "execution_count": 7,
      "outputs": []
    },
    {
      "cell_type": "code",
      "source": [
        "for model in genai.list_models():\n",
        "  print(model)"
      ],
      "metadata": {
        "colab": {
          "base_uri": "https://localhost:8080/",
          "height": 1000
        },
        "id": "rkcykz96juUO",
        "outputId": "befe4f9f-dd4f-4deb-97bc-1781bcddb66b"
      },
      "execution_count": 8,
      "outputs": [
        {
          "output_type": "stream",
          "name": "stdout",
          "text": [
            "Model(name='models/chat-bison-001',\n",
            "      base_model_id='',\n",
            "      version='001',\n",
            "      display_name='PaLM 2 Chat (Legacy)',\n",
            "      description='A legacy text-only model optimized for chat conversations',\n",
            "      input_token_limit=4096,\n",
            "      output_token_limit=1024,\n",
            "      supported_generation_methods=['generateMessage', 'countMessageTokens'],\n",
            "      temperature=0.25,\n",
            "      max_temperature=None,\n",
            "      top_p=0.95,\n",
            "      top_k=40)\n",
            "Model(name='models/text-bison-001',\n",
            "      base_model_id='',\n",
            "      version='001',\n",
            "      display_name='PaLM 2 (Legacy)',\n",
            "      description='A legacy model that understands text and generates text as an output',\n",
            "      input_token_limit=8196,\n",
            "      output_token_limit=1024,\n",
            "      supported_generation_methods=['generateText', 'countTextTokens', 'createTunedTextModel'],\n",
            "      temperature=0.7,\n",
            "      max_temperature=None,\n",
            "      top_p=0.95,\n",
            "      top_k=40)\n",
            "Model(name='models/embedding-gecko-001',\n",
            "      base_model_id='',\n",
            "      version='001',\n",
            "      display_name='Embedding Gecko',\n",
            "      description='Obtain a distributed representation of a text.',\n",
            "      input_token_limit=1024,\n",
            "      output_token_limit=1,\n",
            "      supported_generation_methods=['embedText', 'countTextTokens'],\n",
            "      temperature=None,\n",
            "      max_temperature=None,\n",
            "      top_p=None,\n",
            "      top_k=None)\n",
            "Model(name='models/gemini-1.0-pro-latest',\n",
            "      base_model_id='',\n",
            "      version='001',\n",
            "      display_name='Gemini 1.0 Pro Latest',\n",
            "      description=('The best model for scaling across a wide range of tasks. This is the latest '\n",
            "                   'model.'),\n",
            "      input_token_limit=30720,\n",
            "      output_token_limit=2048,\n",
            "      supported_generation_methods=['generateContent', 'countTokens'],\n",
            "      temperature=0.9,\n",
            "      max_temperature=None,\n",
            "      top_p=1.0,\n",
            "      top_k=None)\n",
            "Model(name='models/gemini-1.0-pro',\n",
            "      base_model_id='',\n",
            "      version='001',\n",
            "      display_name='Gemini 1.0 Pro',\n",
            "      description='The best model for scaling across a wide range of tasks',\n",
            "      input_token_limit=30720,\n",
            "      output_token_limit=2048,\n",
            "      supported_generation_methods=['generateContent', 'countTokens'],\n",
            "      temperature=0.9,\n",
            "      max_temperature=None,\n",
            "      top_p=1.0,\n",
            "      top_k=None)\n",
            "Model(name='models/gemini-pro',\n",
            "      base_model_id='',\n",
            "      version='001',\n",
            "      display_name='Gemini 1.0 Pro',\n",
            "      description='The best model for scaling across a wide range of tasks',\n",
            "      input_token_limit=30720,\n",
            "      output_token_limit=2048,\n",
            "      supported_generation_methods=['generateContent', 'countTokens'],\n",
            "      temperature=0.9,\n",
            "      max_temperature=None,\n",
            "      top_p=1.0,\n",
            "      top_k=None)\n",
            "Model(name='models/gemini-1.0-pro-001',\n",
            "      base_model_id='',\n",
            "      version='001',\n",
            "      display_name='Gemini 1.0 Pro 001 (Tuning)',\n",
            "      description=('The best model for scaling across a wide range of tasks. This is a stable '\n",
            "                   'model that supports tuning.'),\n",
            "      input_token_limit=30720,\n",
            "      output_token_limit=2048,\n",
            "      supported_generation_methods=['generateContent', 'countTokens', 'createTunedModel'],\n",
            "      temperature=0.9,\n",
            "      max_temperature=None,\n",
            "      top_p=1.0,\n",
            "      top_k=None)\n",
            "Model(name='models/gemini-1.0-pro-vision-latest',\n",
            "      base_model_id='',\n",
            "      version='001',\n",
            "      display_name='Gemini 1.0 Pro Vision',\n",
            "      description='The best image understanding model to handle a broad range of applications',\n",
            "      input_token_limit=12288,\n",
            "      output_token_limit=4096,\n",
            "      supported_generation_methods=['generateContent', 'countTokens'],\n",
            "      temperature=0.4,\n",
            "      max_temperature=None,\n",
            "      top_p=1.0,\n",
            "      top_k=32)\n",
            "Model(name='models/gemini-pro-vision',\n",
            "      base_model_id='',\n",
            "      version='001',\n",
            "      display_name='Gemini 1.0 Pro Vision',\n",
            "      description='The best image understanding model to handle a broad range of applications',\n",
            "      input_token_limit=12288,\n",
            "      output_token_limit=4096,\n",
            "      supported_generation_methods=['generateContent', 'countTokens'],\n",
            "      temperature=0.4,\n",
            "      max_temperature=None,\n",
            "      top_p=1.0,\n",
            "      top_k=32)\n",
            "Model(name='models/gemini-1.5-pro-latest',\n",
            "      base_model_id='',\n",
            "      version='001',\n",
            "      display_name='Gemini 1.5 Pro Latest',\n",
            "      description='Mid-size multimodal model that supports up to 2 million tokens',\n",
            "      input_token_limit=2000000,\n",
            "      output_token_limit=8192,\n",
            "      supported_generation_methods=['generateContent', 'countTokens'],\n",
            "      temperature=1.0,\n",
            "      max_temperature=2.0,\n",
            "      top_p=0.95,\n",
            "      top_k=64)\n",
            "Model(name='models/gemini-1.5-pro-001',\n",
            "      base_model_id='',\n",
            "      version='001',\n",
            "      display_name='Gemini 1.5 Pro 001',\n",
            "      description='Mid-size multimodal model that supports up to 2 million tokens',\n",
            "      input_token_limit=2000000,\n",
            "      output_token_limit=8192,\n",
            "      supported_generation_methods=['generateContent', 'countTokens', 'createCachedContent'],\n",
            "      temperature=1.0,\n",
            "      max_temperature=2.0,\n",
            "      top_p=0.95,\n",
            "      top_k=64)\n",
            "Model(name='models/gemini-1.5-pro-002',\n",
            "      base_model_id='',\n",
            "      version='002',\n",
            "      display_name='Gemini 1.5 Pro 002',\n",
            "      description='Mid-size multimodal model that supports up to 2 million tokens',\n",
            "      input_token_limit=2000000,\n",
            "      output_token_limit=8192,\n",
            "      supported_generation_methods=['generateContent', 'countTokens', 'createCachedContent'],\n",
            "      temperature=1.0,\n",
            "      max_temperature=2.0,\n",
            "      top_p=0.95,\n",
            "      top_k=40)\n",
            "Model(name='models/gemini-1.5-pro',\n",
            "      base_model_id='',\n",
            "      version='001',\n",
            "      display_name='Gemini 1.5 Pro',\n",
            "      description='Mid-size multimodal model that supports up to 2 million tokens',\n",
            "      input_token_limit=2000000,\n",
            "      output_token_limit=8192,\n",
            "      supported_generation_methods=['generateContent', 'countTokens'],\n",
            "      temperature=1.0,\n",
            "      max_temperature=2.0,\n",
            "      top_p=0.95,\n",
            "      top_k=64)\n",
            "Model(name='models/gemini-1.5-pro-exp-0801',\n",
            "      base_model_id='',\n",
            "      version='exp-0801',\n",
            "      display_name='Gemini 1.5 Pro Experimental 0801',\n",
            "      description='Mid-size multimodal model that supports up to 2 million tokens',\n",
            "      input_token_limit=2000000,\n",
            "      output_token_limit=8192,\n",
            "      supported_generation_methods=['generateContent', 'countTokens'],\n",
            "      temperature=1.0,\n",
            "      max_temperature=2.0,\n",
            "      top_p=0.95,\n",
            "      top_k=64)\n",
            "Model(name='models/gemini-1.5-pro-exp-0827',\n",
            "      base_model_id='',\n",
            "      version='exp-0827',\n",
            "      display_name='Gemini 1.5 Pro Experimental 0827',\n",
            "      description='Mid-size multimodal model that supports up to 2 million tokens',\n",
            "      input_token_limit=2000000,\n",
            "      output_token_limit=8192,\n",
            "      supported_generation_methods=['generateContent', 'countTokens'],\n",
            "      temperature=1.0,\n",
            "      max_temperature=2.0,\n",
            "      top_p=0.95,\n",
            "      top_k=64)\n",
            "Model(name='models/gemini-1.5-flash-latest',\n",
            "      base_model_id='',\n",
            "      version='001',\n",
            "      display_name='Gemini 1.5 Flash Latest',\n",
            "      description='Fast and versatile multimodal model for scaling across diverse tasks',\n",
            "      input_token_limit=1000000,\n",
            "      output_token_limit=8192,\n",
            "      supported_generation_methods=['generateContent', 'countTokens'],\n",
            "      temperature=1.0,\n",
            "      max_temperature=2.0,\n",
            "      top_p=0.95,\n",
            "      top_k=64)\n",
            "Model(name='models/gemini-1.5-flash-001',\n",
            "      base_model_id='',\n",
            "      version='001',\n",
            "      display_name='Gemini 1.5 Flash 001',\n",
            "      description='Fast and versatile multimodal model for scaling across diverse tasks',\n",
            "      input_token_limit=1000000,\n",
            "      output_token_limit=8192,\n",
            "      supported_generation_methods=['generateContent', 'countTokens', 'createCachedContent'],\n",
            "      temperature=1.0,\n",
            "      max_temperature=2.0,\n",
            "      top_p=0.95,\n",
            "      top_k=64)\n",
            "Model(name='models/gemini-1.5-flash-001-tuning',\n",
            "      base_model_id='',\n",
            "      version='001',\n",
            "      display_name='Gemini 1.5 Flash 001 Tuning',\n",
            "      description='Fast and versatile multimodal model for scaling across diverse tasks',\n",
            "      input_token_limit=16384,\n",
            "      output_token_limit=8192,\n",
            "      supported_generation_methods=['generateContent', 'countTokens', 'createTunedModel'],\n",
            "      temperature=1.0,\n",
            "      max_temperature=2.0,\n",
            "      top_p=0.95,\n",
            "      top_k=64)\n",
            "Model(name='models/gemini-1.5-flash',\n",
            "      base_model_id='',\n",
            "      version='001',\n",
            "      display_name='Gemini 1.5 Flash',\n",
            "      description='Fast and versatile multimodal model for scaling across diverse tasks',\n",
            "      input_token_limit=1000000,\n",
            "      output_token_limit=8192,\n",
            "      supported_generation_methods=['generateContent', 'countTokens'],\n",
            "      temperature=1.0,\n",
            "      max_temperature=2.0,\n",
            "      top_p=0.95,\n",
            "      top_k=64)\n",
            "Model(name='models/gemini-1.5-flash-exp-0827',\n",
            "      base_model_id='',\n",
            "      version='exp-0827',\n",
            "      display_name='Gemini 1.5 Flash Experimental 0827',\n",
            "      description='Fast and versatile multimodal model for scaling across diverse tasks',\n",
            "      input_token_limit=1000000,\n",
            "      output_token_limit=8192,\n",
            "      supported_generation_methods=['generateContent', 'countTokens'],\n",
            "      temperature=1.0,\n",
            "      max_temperature=2.0,\n",
            "      top_p=0.95,\n",
            "      top_k=64)\n",
            "Model(name='models/gemini-1.5-flash-002',\n",
            "      base_model_id='',\n",
            "      version='002',\n",
            "      display_name='Gemini 1.5 Flash 002',\n",
            "      description='Fast and versatile multimodal model for scaling across diverse tasks',\n",
            "      input_token_limit=1000000,\n",
            "      output_token_limit=8192,\n",
            "      supported_generation_methods=['generateContent', 'countTokens', 'createCachedContent'],\n",
            "      temperature=1.0,\n",
            "      max_temperature=2.0,\n",
            "      top_p=0.95,\n",
            "      top_k=40)\n",
            "Model(name='models/gemini-1.5-flash-8b',\n",
            "      base_model_id='',\n",
            "      version='001',\n",
            "      display_name='Gemini 1.5 Flash-8B',\n",
            "      description='Fast and versatile multimodal model for scaling across diverse tasks',\n",
            "      input_token_limit=1000000,\n",
            "      output_token_limit=8192,\n",
            "      supported_generation_methods=['createCachedContent', 'generateContent', 'countTokens'],\n",
            "      temperature=1.0,\n",
            "      max_temperature=2.0,\n",
            "      top_p=0.95,\n",
            "      top_k=40)\n",
            "Model(name='models/gemini-1.5-flash-8b-001',\n",
            "      base_model_id='',\n",
            "      version='001',\n",
            "      display_name='Gemini 1.5 Flash-8B 001',\n",
            "      description='Fast and versatile multimodal model for scaling across diverse tasks',\n",
            "      input_token_limit=1000000,\n",
            "      output_token_limit=8192,\n",
            "      supported_generation_methods=['createCachedContent', 'generateContent', 'countTokens'],\n",
            "      temperature=1.0,\n",
            "      max_temperature=2.0,\n",
            "      top_p=0.95,\n",
            "      top_k=40)\n",
            "Model(name='models/gemini-1.5-flash-8b-latest',\n",
            "      base_model_id='',\n",
            "      version='001',\n",
            "      display_name='Gemini 1.5 Flash-8B Latest',\n",
            "      description='Fast and versatile multimodal model for scaling across diverse tasks',\n",
            "      input_token_limit=1000000,\n",
            "      output_token_limit=8192,\n",
            "      supported_generation_methods=['createCachedContent', 'generateContent', 'countTokens'],\n",
            "      temperature=1.0,\n",
            "      max_temperature=2.0,\n",
            "      top_p=0.95,\n",
            "      top_k=40)\n",
            "Model(name='models/gemini-1.5-flash-8b-exp-0827',\n",
            "      base_model_id='',\n",
            "      version='001',\n",
            "      display_name='Gemini 1.5 Flash 8B Experimental 0827',\n",
            "      description='Fast and versatile multimodal model for scaling across diverse tasks',\n",
            "      input_token_limit=1000000,\n",
            "      output_token_limit=8192,\n",
            "      supported_generation_methods=['generateContent', 'countTokens'],\n",
            "      temperature=1.0,\n",
            "      max_temperature=2.0,\n",
            "      top_p=0.95,\n",
            "      top_k=40)\n",
            "Model(name='models/gemini-1.5-flash-8b-exp-0924',\n",
            "      base_model_id='',\n",
            "      version='001',\n",
            "      display_name='Gemini 1.5 Flash 8B Experimental 0924',\n",
            "      description='Fast and versatile multimodal model for scaling across diverse tasks',\n",
            "      input_token_limit=1000000,\n",
            "      output_token_limit=8192,\n",
            "      supported_generation_methods=['generateContent', 'countTokens'],\n",
            "      temperature=1.0,\n",
            "      max_temperature=2.0,\n",
            "      top_p=0.95,\n",
            "      top_k=40)\n",
            "Model(name='models/embedding-001',\n",
            "      base_model_id='',\n",
            "      version='001',\n",
            "      display_name='Embedding 001',\n",
            "      description='Obtain a distributed representation of a text.',\n",
            "      input_token_limit=2048,\n",
            "      output_token_limit=1,\n",
            "      supported_generation_methods=['embedContent'],\n",
            "      temperature=None,\n",
            "      max_temperature=None,\n",
            "      top_p=None,\n",
            "      top_k=None)\n",
            "Model(name='models/text-embedding-004',\n",
            "      base_model_id='',\n",
            "      version='004',\n",
            "      display_name='Text Embedding 004',\n",
            "      description='Obtain a distributed representation of a text.',\n",
            "      input_token_limit=2048,\n",
            "      output_token_limit=1,\n",
            "      supported_generation_methods=['embedContent'],\n",
            "      temperature=None,\n",
            "      max_temperature=None,\n",
            "      top_p=None,\n",
            "      top_k=None)\n",
            "Model(name='models/aqa',\n",
            "      base_model_id='',\n",
            "      version='001',\n",
            "      display_name='Model that performs Attributed Question Answering.',\n",
            "      description=('Model trained to return answers to questions that are grounded in provided '\n",
            "                   'sources, along with estimating answerable probability.'),\n",
            "      input_token_limit=7168,\n",
            "      output_token_limit=1024,\n",
            "      supported_generation_methods=['generateAnswer'],\n",
            "      temperature=0.2,\n",
            "      max_temperature=None,\n",
            "      top_p=1.0,\n",
            "      top_k=40)\n"
          ]
        }
      ]
    },
    {
      "cell_type": "code",
      "source": [
        "for model in genai.list_models():\n",
        "  if 'generateContent' in model.supported_generation_methods:\n",
        "    print(model.name)"
      ],
      "metadata": {
        "colab": {
          "base_uri": "https://localhost:8080/",
          "height": 416
        },
        "id": "OxYzjREej3Zw",
        "outputId": "cd16d180-323e-4203-b747-77b6c12cf9f6"
      },
      "execution_count": 9,
      "outputs": [
        {
          "output_type": "stream",
          "name": "stdout",
          "text": [
            "models/gemini-1.0-pro-latest\n",
            "models/gemini-1.0-pro\n",
            "models/gemini-pro\n",
            "models/gemini-1.0-pro-001\n",
            "models/gemini-1.0-pro-vision-latest\n",
            "models/gemini-pro-vision\n",
            "models/gemini-1.5-pro-latest\n",
            "models/gemini-1.5-pro-001\n",
            "models/gemini-1.5-pro-002\n",
            "models/gemini-1.5-pro\n",
            "models/gemini-1.5-pro-exp-0801\n",
            "models/gemini-1.5-pro-exp-0827\n",
            "models/gemini-1.5-flash-latest\n",
            "models/gemini-1.5-flash-001\n",
            "models/gemini-1.5-flash-001-tuning\n",
            "models/gemini-1.5-flash\n",
            "models/gemini-1.5-flash-exp-0827\n",
            "models/gemini-1.5-flash-002\n",
            "models/gemini-1.5-flash-8b\n",
            "models/gemini-1.5-flash-8b-001\n",
            "models/gemini-1.5-flash-8b-latest\n",
            "models/gemini-1.5-flash-8b-exp-0827\n",
            "models/gemini-1.5-flash-8b-exp-0924\n"
          ]
        }
      ]
    },
    {
      "cell_type": "markdown",
      "source": [
        "### generate text from text"
      ],
      "metadata": {
        "id": "JYHX44-Pkp9d"
      }
    },
    {
      "cell_type": "code",
      "source": [
        "model=genai.GenerativeModel('gemini-pro')"
      ],
      "metadata": {
        "id": "5ZPjUq6ckTBL"
      },
      "execution_count": 10,
      "outputs": []
    },
    {
      "cell_type": "code",
      "source": [
        "%%time\n",
        "response=model.generate_content('what is the meaning of life')"
      ],
      "metadata": {
        "colab": {
          "base_uri": "https://localhost:8080/",
          "height": 52
        },
        "id": "pKsi2_dxk_Yn",
        "outputId": "0c5be6a4-b751-4c63-d0cc-e52ba72f50b8"
      },
      "execution_count": 11,
      "outputs": [
        {
          "output_type": "stream",
          "name": "stdout",
          "text": [
            "CPU times: user 86.1 ms, sys: 8.31 ms, total: 94.4 ms\n",
            "Wall time: 9.52 s\n"
          ]
        }
      ]
    },
    {
      "cell_type": "code",
      "source": [
        "response.text"
      ],
      "metadata": {
        "colab": {
          "base_uri": "https://localhost:8080/",
          "height": 244
        },
        "id": "xNZenBCilsRz",
        "outputId": "2ee7475e-4559-4ef9-bd32-a636f0331e80"
      },
      "execution_count": 12,
      "outputs": [
        {
          "output_type": "execute_result",
          "data": {
            "text/plain": [
              "\"**Existential Perspectives:**\\n\\n* **Absurdism:** Life has no inherent meaning or purpose; we create our own.\\n* **Nihilism:** Life is meaningless and devoid of any value or significance.\\n* **Existentialism:** Life is an open-ended journey where we create our own meaning through choices and actions.\\n\\n**Religious and Spiritual Perspectives:**\\n\\n* **Theism:** Life has a purpose defined by God or a higher power.\\n* **Pantheism:** Life is an interconnected web of existence, and all things are part of a divine whole.\\n* **Atheism:** Life has no divine purpose, but can still have personal or subjective meaning.\\n\\n**Philosophical Perspectives:**\\n\\n* **Eudaimonia (Aristotle):** Life's meaning lies in living with virtue, reason, and fulfillment.\\n* **Hedonism (Epicurus):** Life's meaning is to pursue pleasure and avoid pain.\\n* **Utilitarianism (J. Bentham):** Life's meaning is to maximize happiness for the greatest number of people.\\n\\n**Social and Cultural Perspectives:**\\n\\n* **Purpose in Work:** Many find meaning through their careers and contributions to society.\\n* **Relationships:** Strong social connections and love can provide a sense of purpose.\\n* **Personal Growth:** Striving for self-improvement, learning, and experiences can fill our lives with meaning.\\n\\n**Subjective and Personal Perspectives:**\\n\\n* **Individual Autonomy:** Some believe that each person must discover their own unique meaning in life.\\n* **Psychological Well-being:** Feeling a sense of purpose and fulfillment can contribute to overall happiness and well-being.\\n* **Legacy:** Leaving a positive impact on the world and future generations can provide a sense of purpose.\\n\\n**Other Perspectives:**\\n\\n* **Evolutionary Biology:** Life's meaning is to perpetuate genes and ensure the survival of the species.\\n* **Artificial Intelligence:** Some speculate that AI may experience existential questioning and search for its own meaning.\\n* **Cosmic Perspectives:** In the vastness of the universe, our lives may seem insignificant, but they can still have personal meaning and value.\\n\\n**Conclusion:**\\n\\nThe meaning of life is a complex and multifaceted question with no definitive answer. It varies depending on individual beliefs, values, and experiences. Ultimately, each person must find their own unique meaning and purpose in life.\""
            ],
            "application/vnd.google.colaboratory.intrinsic+json": {
              "type": "string"
            }
          },
          "metadata": {},
          "execution_count": 12
        }
      ]
    },
    {
      "cell_type": "code",
      "source": [
        "to_markdown(response.text)"
      ],
      "metadata": {
        "colab": {
          "base_uri": "https://localhost:8080/",
          "height": 852
        },
        "id": "H1dAkvyVlv9K",
        "outputId": "b17c8b9a-d614-461e-ff23-e29b1093fff7"
      },
      "execution_count": 13,
      "outputs": [
        {
          "output_type": "execute_result",
          "data": {
            "text/plain": [
              "<IPython.core.display.Markdown object>"
            ],
            "text/markdown": ">**Existential Perspectives:**\n>\n>* **Absurdism:** Life has no inherent meaning or purpose; we create our own *\n>* **Nihilism:** Life is meaningless and devoid of any value or significance *\n>* **Existentialism:** Life is an open-ended journey where we create our own meaning through choices and actions *\n>\n>**Religious and Spiritual Perspectives:**\n>\n>* **Theism:** Life has a purpose defined by God or a higher power *\n>* **Pantheism:** Life is an interconnected web of existence, and all things are part of a divine whole *\n>* **Atheism:** Life has no divine purpose, but can still have personal or subjective meaning *\n>\n>**Philosophical Perspectives:**\n>\n>* **Eudaimonia (Aristotle):** Life's meaning lies in living with virtue, reason, and fulfillment *\n>* **Hedonism (Epicurus):** Life's meaning is to pursue pleasure and avoid pain *\n>* **Utilitarianism (J * Bentham):** Life's meaning is to maximize happiness for the greatest number of people *\n>\n>**Social and Cultural Perspectives:**\n>\n>* **Purpose in Work:** Many find meaning through their careers and contributions to society *\n>* **Relationships:** Strong social connections and love can provide a sense of purpose *\n>* **Personal Growth:** Striving for self-improvement, learning, and experiences can fill our lives with meaning *\n>\n>**Subjective and Personal Perspectives:**\n>\n>* **Individual Autonomy:** Some believe that each person must discover their own unique meaning in life *\n>* **Psychological Well-being:** Feeling a sense of purpose and fulfillment can contribute to overall happiness and well-being *\n>* **Legacy:** Leaving a positive impact on the world and future generations can provide a sense of purpose *\n>\n>**Other Perspectives:**\n>\n>* **Evolutionary Biology:** Life's meaning is to perpetuate genes and ensure the survival of the species *\n>* **Artificial Intelligence:** Some speculate that AI may experience existential questioning and search for its own meaning *\n>* **Cosmic Perspectives:** In the vastness of the universe, our lives may seem insignificant, but they can still have personal meaning and value *\n>\n>**Conclusion:**\n>\n>The meaning of life is a complex and multifaceted question with no definitive answer * It varies depending on individual beliefs, values, and experiences * Ultimately, each person must find their own unique meaning and purpose in life *"
          },
          "metadata": {},
          "execution_count": 13
        }
      ]
    },
    {
      "cell_type": "code",
      "source": [
        "response.candidates"
      ],
      "metadata": {
        "colab": {
          "base_uri": "https://localhost:8080/"
        },
        "id": "lWXYtVMYEPCk",
        "outputId": "9c2cb70b-b531-432b-f4d7-960c65ec90ca"
      },
      "execution_count": 14,
      "outputs": [
        {
          "output_type": "execute_result",
          "data": {
            "text/plain": [
              "[content {\n",
              "  parts {\n",
              "    text: \"**Existential Perspectives:**\\n\\n* **Absurdism:** Life has no inherent meaning or purpose; we create our own.\\n* **Nihilism:** Life is meaningless and devoid of any value or significance.\\n* **Existentialism:** Life is an open-ended journey where we create our own meaning through choices and actions.\\n\\n**Religious and Spiritual Perspectives:**\\n\\n* **Theism:** Life has a purpose defined by God or a higher power.\\n* **Pantheism:** Life is an interconnected web of existence, and all things are part of a divine whole.\\n* **Atheism:** Life has no divine purpose, but can still have personal or subjective meaning.\\n\\n**Philosophical Perspectives:**\\n\\n* **Eudaimonia (Aristotle):** Life\\'s meaning lies in living with virtue, reason, and fulfillment.\\n* **Hedonism (Epicurus):** Life\\'s meaning is to pursue pleasure and avoid pain.\\n* **Utilitarianism (J. Bentham):** Life\\'s meaning is to maximize happiness for the greatest number of people.\\n\\n**Social and Cultural Perspectives:**\\n\\n* **Purpose in Work:** Many find meaning through their careers and contributions to society.\\n* **Relationships:** Strong social connections and love can provide a sense of purpose.\\n* **Personal Growth:** Striving for self-improvement, learning, and experiences can fill our lives with meaning.\\n\\n**Subjective and Personal Perspectives:**\\n\\n* **Individual Autonomy:** Some believe that each person must discover their own unique meaning in life.\\n* **Psychological Well-being:** Feeling a sense of purpose and fulfillment can contribute to overall happiness and well-being.\\n* **Legacy:** Leaving a positive impact on the world and future generations can provide a sense of purpose.\\n\\n**Other Perspectives:**\\n\\n* **Evolutionary Biology:** Life\\'s meaning is to perpetuate genes and ensure the survival of the species.\\n* **Artificial Intelligence:** Some speculate that AI may experience existential questioning and search for its own meaning.\\n* **Cosmic Perspectives:** In the vastness of the universe, our lives may seem insignificant, but they can still have personal meaning and value.\\n\\n**Conclusion:**\\n\\nThe meaning of life is a complex and multifaceted question with no definitive answer. It varies depending on individual beliefs, values, and experiences. Ultimately, each person must find their own unique meaning and purpose in life.\"\n",
              "  }\n",
              "  role: \"model\"\n",
              "}\n",
              "finish_reason: STOP\n",
              "index: 0\n",
              "safety_ratings {\n",
              "  category: HARM_CATEGORY_SEXUALLY_EXPLICIT\n",
              "  probability: NEGLIGIBLE\n",
              "}\n",
              "safety_ratings {\n",
              "  category: HARM_CATEGORY_HATE_SPEECH\n",
              "  probability: NEGLIGIBLE\n",
              "}\n",
              "safety_ratings {\n",
              "  category: HARM_CATEGORY_HARASSMENT\n",
              "  probability: NEGLIGIBLE\n",
              "}\n",
              "safety_ratings {\n",
              "  category: HARM_CATEGORY_DANGEROUS_CONTENT\n",
              "  probability: NEGLIGIBLE\n",
              "}\n",
              "]"
            ]
          },
          "metadata": {},
          "execution_count": 14
        }
      ]
    },
    {
      "cell_type": "code",
      "source": [
        "response"
      ],
      "metadata": {
        "colab": {
          "base_uri": "https://localhost:8080/"
        },
        "id": "77G78ydvIk0_",
        "outputId": "8e18d65e-3ded-496c-f60d-561f2c96726d"
      },
      "execution_count": 24,
      "outputs": [
        {
          "output_type": "execute_result",
          "data": {
            "text/plain": [
              "response:\n",
              "GenerateContentResponse(\n",
              "    done=True,\n",
              "    iterator=None,\n",
              "    result=protos.GenerateContentResponse({\n",
              "      \"candidates\": [\n",
              "        {\n",
              "          \"content\": {\n",
              "            \"parts\": [\n",
              "              {\n",
              "                \"text\": \"In a world threatened by e\"\n",
              "              }\n",
              "            ],\n",
              "            \"role\": \"model\"\n",
              "          },\n",
              "          \"finish_reason\": \"STOP\",\n",
              "          \"index\": 0,\n",
              "          \"safety_ratings\": [\n",
              "            {\n",
              "              \"category\": \"HARM_CATEGORY_SEXUALLY_EXPLICIT\",\n",
              "              \"probability\": \"NEGLIGIBLE\"\n",
              "            },\n",
              "            {\n",
              "              \"category\": \"HARM_CATEGORY_HATE_SPEECH\",\n",
              "              \"probability\": \"NEGLIGIBLE\"\n",
              "            },\n",
              "            {\n",
              "              \"category\": \"HARM_CATEGORY_HARASSMENT\",\n",
              "              \"probability\": \"NEGLIGIBLE\"\n",
              "            },\n",
              "            {\n",
              "              \"category\": \"HARM_CATEGORY_DANGEROUS_CONTENT\",\n",
              "              \"probability\": \"NEGLIGIBLE\"\n",
              "            }\n",
              "          ]\n",
              "        }\n",
              "      ],\n",
              "      \"usage_metadata\": {\n",
              "        \"prompt_token_count\": 8,\n",
              "        \"candidates_token_count\": 6,\n",
              "        \"total_token_count\": 14\n",
              "      }\n",
              "    }),\n",
              ")"
            ]
          },
          "metadata": {},
          "execution_count": 24
        }
      ]
    },
    {
      "cell_type": "code",
      "source": [
        "response.prompt_feedback"
      ],
      "metadata": {
        "colab": {
          "base_uri": "https://localhost:8080/"
        },
        "id": "ARjdHraPI2P6",
        "outputId": "054fff7c-10c0-4baf-9ce8-de6a77b1008f"
      },
      "execution_count": 25,
      "outputs": [
        {
          "output_type": "execute_result",
          "data": {
            "text/plain": []
          },
          "metadata": {},
          "execution_count": 25
        }
      ]
    },
    {
      "cell_type": "code",
      "source": [
        "%%time\n",
        "\n",
        "response=model.generate_content(\"whst is meaning of life ?\",stream=True)\n",
        "for chunk in response:\n",
        "  print(chunk.text)\n",
        "  print(\"_\"*80)"
      ],
      "metadata": {
        "colab": {
          "base_uri": "https://localhost:8080/",
          "height": 436
        },
        "id": "qHD0u5b7I8gj",
        "outputId": "b9bb2a32-8ca1-4a43-f8b9-a5896df5e7b6"
      },
      "execution_count": 17,
      "outputs": [
        {
          "output_type": "stream",
          "name": "stdout",
          "text": [
            "The meaning of life is a complex and deeply personal question that has been pondered by\n",
            "________________________________________________________________________________\n",
            " philosophers, theologians, and individuals throughout history. There is no single, universally agreed-upon answer, as the meaning of life can vary depending on one's\n",
            "________________________________________________________________________________\n",
            " beliefs, values, and experiences.\n",
            "\n",
            "Some common perspectives on the meaning of life include:\n",
            "\n",
            "* **Finding purpose and fulfillment:** Many people find meaning in their lives by pursuing their passions, goals, and values. This can involve working towards a fulfilling career, nurturing relationships, contributing to society, or simply enjoying hobbies and\n",
            "________________________________________________________________________________\n",
            " activities that bring joy.\n",
            "* **Making a difference:** Some individuals find meaning in making a positive impact on the world or leaving a lasting legacy. This can involve engaging in charitable work, advocating for social justice, or creating art or other creative endeavors that inspire or benefit others.\n",
            "* **Pursuing knowledge and understanding:** For others, the meaning of life lies in the pursuit of knowledge and understanding. This can involve studying various subjects, exploring different cultures, or simply seeking answers to life's big questions.\n",
            "* **Experiencing love and connection:** Some people believe that the meaning of life is found in human relationships and connections\n",
            "________________________________________________________________________________\n",
            ". This can involve building strong bonds with family, friends, and loved ones, as well as fostering a sense of community and belonging.\n",
            "* **Living in the present moment:** Others suggest that the meaning of life lies in simply appreciating and savoring the present moment. This can involve practicing mindfulness, gratitude, and enjoying the simple pleasures of life.\n",
            "* **Finding transcendence:** Some spiritual or religious traditions emphasize the importance of transcending the physical world and connecting with something greater than oneself. This can involve seeking unity with a higher power, nature, or the universe as a whole.\n",
            "\n",
            "Ultimately, the meaning of life is a subjective concept that is unique to each individual. It is a personal journey of self-discovery, reflection, and exploration. By exploring different perspectives, engaging in meaningful experiences, and living in alignment with one's values, people can find their own unique sense of purpose and fulfillment in life.\n",
            "________________________________________________________________________________\n",
            "CPU times: user 77.7 ms, sys: 9.33 ms, total: 87.1 ms\n",
            "Wall time: 8.85 s\n"
          ]
        }
      ]
    },
    {
      "cell_type": "markdown",
      "source": [
        "### generate text from image"
      ],
      "metadata": {
        "id": "Jxl-Qt-ImQwJ"
      }
    },
    {
      "cell_type": "code",
      "source": [
        "!curl-o image2.jpg https://tse4.mm.bing.net/th?id=OIP.2ipyciZc3yjfiBePI2p0QAHaF6&pid=Api&P=0&h=220"
      ],
      "metadata": {
        "colab": {
          "base_uri": "https://localhost:8080/"
        },
        "id": "pbCAxNq_lzaN",
        "outputId": "f7b3ed61-02d1-4839-e08c-4229145edada"
      },
      "execution_count": 18,
      "outputs": [
        {
          "output_type": "stream",
          "name": "stdout",
          "text": [
            "/bin/bash: line 1: curl-o: command not found\n"
          ]
        }
      ]
    },
    {
      "cell_type": "markdown",
      "source": [
        "### Generation Configuration"
      ],
      "metadata": {
        "id": "GMqYG6mroPnk"
      }
    },
    {
      "cell_type": "code",
      "source": [
        "model=genai.GenerativeModel('gemini-pro')"
      ],
      "metadata": {
        "id": "mBDKJuDvoPMZ"
      },
      "execution_count": 19,
      "outputs": []
    },
    {
      "cell_type": "code",
      "source": [
        "model.generate_content(\"tell me the story about avangers?\").text"
      ],
      "metadata": {
        "colab": {
          "base_uri": "https://localhost:8080/",
          "height": 244
        },
        "id": "oBeFFkQboibh",
        "outputId": "54f19db1-e732-4c47-8fca-b7e4237f7c9d"
      },
      "execution_count": 20,
      "outputs": [
        {
          "output_type": "execute_result",
          "data": {
            "text/plain": [
              "'**Origins and Founding**\\n\\nThe Avengers were founded by Iron Man (Tony Stark), Hulk (Bruce Banner), Thor, Ant-Man (Hank Pym), the Wasp (Janet van Dyne), and Captain America (Steve Rogers) after an invasion by the alien Skrulls. Their initial mission was to apprehend Loki, the god of mischief, and prevent him from launching an assault on Earth.\\n\\n**Golden Age and Cold War**\\n\\nIn the 1950s and 1960s, the Avengers expanded their roster and fought against numerous threats, including the Masters of Evil, the Zodiac, and the Kree. The team also became embroiled in the Cold War, often clashing with the Soviet super-team, the Winter Guard.\\n\\n**Civil War and Disbandment**\\n\\nIn the early 2000s, the Avengers were divided over the Superhuman Registration Act, a law requiring all superhumans to register with the government. This led to a bitter conflict known as the \"Civil War,\" which resulted in the team\\'s temporary disbandment.\\n\\n**Reformation and Expansion**\\n\\nAfter the Civil War, the Avengers reformed under the leadership of Captain America, with a new roster that included Spider-Man, Wolverine, and Black Widow. The team also faced new challenges, such as the invasion of the Skrulls and the rise of Thanos, the mad Titan.\\n\\n**The Infinity Saga**\\n\\nThe Avengers played a pivotal role in the \"Infinity Saga,\" a series of films that culminated in \"Avengers: Endgame.\" They fought against Thanos and his army, who sought to collect the Infinity Stones and reshape the universe. After a series of sacrifices and setbacks, the Avengers eventually defeated Thanos and restored balance to the cosmos.\\n\\n**Post-Endgame Era**\\n\\nIn the post-\"Endgame\" era, the Avengers have undergone another roster change, with several original members retiring or leaving. The team now includes Captain Marvel, Ms. Marvel, She-Hulk, and Shang-Chi, among others. They continue to protect Earth from threats, both domestic and cosmic.\\n\\n**Additional Information**\\n\\n* The Avengers have a long-standing alliance with the Fantastic Four, another iconic superhero team.\\n* The team has been supported by various organizations, including S.H.I.E.L.D. and the Avengers Tower.\\n* They have also faced numerous villains over the years, including Ultron, Kang the Conqueror, and Dormammu.\\n* The Avengers have been featured in numerous comic books, films, television shows, and video games.'"
            ],
            "application/vnd.google.colaboratory.intrinsic+json": {
              "type": "string"
            }
          },
          "metadata": {},
          "execution_count": 20
        }
      ]
    },
    {
      "cell_type": "code",
      "source": [
        "response = model.generate_content(\n",
        "    \"tell me the story about Avengers?\",\n",
        "    generation_config=genai.types.GenerationConfig(\n",
        "        candidate_count=1,  # Corrected capitalization\n",
        "        stop_sequences=[\"x\"],  # Defines where to stop the generation\n",
        "        max_output_tokens=50,  # Limit the response length\n",
        "        temperature=1.0  # Control the randomness of the output\n",
        "    )\n",
        ")"
      ],
      "metadata": {
        "id": "ruD_gnAeouVJ"
      },
      "execution_count": 21,
      "outputs": []
    },
    {
      "cell_type": "code",
      "source": [
        "response.parts"
      ],
      "metadata": {
        "colab": {
          "base_uri": "https://localhost:8080/"
        },
        "id": "BOkd2pK7tP21",
        "outputId": "5a29cf1b-fac6-4d09-ff46-ef8024e2d6b1"
      },
      "execution_count": 22,
      "outputs": [
        {
          "output_type": "execute_result",
          "data": {
            "text/plain": [
              "response:\n",
              "GenerateContentResponse(\n",
              "    done=True,\n",
              "    iterator=None,\n",
              "    result=protos.GenerateContentResponse({\n",
              "      \"candidates\": [\n",
              "        {\n",
              "          \"content\": {\n",
              "            \"parts\": [\n",
              "              {\n",
              "                \"text\": \"In a world threatened by e\"\n",
              "              }\n",
              "            ],\n",
              "            \"role\": \"model\"\n",
              "          },\n",
              "          \"finish_reason\": \"STOP\",\n",
              "          \"index\": 0,\n",
              "          \"safety_ratings\": [\n",
              "            {\n",
              "              \"category\": \"HARM_CATEGORY_SEXUALLY_EXPLICIT\",\n",
              "              \"probability\": \"NEGLIGIBLE\"\n",
              "            },\n",
              "            {\n",
              "              \"category\": \"HARM_CATEGORY_HATE_SPEECH\",\n",
              "              \"probability\": \"NEGLIGIBLE\"\n",
              "            },\n",
              "            {\n",
              "              \"category\": \"HARM_CATEGORY_HARASSMENT\",\n",
              "              \"probability\": \"NEGLIGIBLE\"\n",
              "            },\n",
              "            {\n",
              "              \"category\": \"HARM_CATEGORY_DANGEROUS_CONTENT\",\n",
              "              \"probability\": \"NEGLIGIBLE\"\n",
              "            }\n",
              "          ]\n",
              "        }\n",
              "      ],\n",
              "      \"usage_metadata\": {\n",
              "        \"prompt_token_count\": 8,\n",
              "        \"candidates_token_count\": 6,\n",
              "        \"total_token_count\": 14\n",
              "      }\n",
              "    }),\n",
              ")"
            ]
          },
          "metadata": {},
          "execution_count": 22
        }
      ]
    },
    {
      "cell_type": "code",
      "source": [
        "response.parts\n"
      ],
      "metadata": {
        "colab": {
          "base_uri": "https://localhost:8080/"
        },
        "id": "GnnpUYENt4NX",
        "outputId": "d1b36357-052f-4557-eb50-7ca2a024868b"
      },
      "execution_count": 23,
      "outputs": [
        {
          "output_type": "execute_result",
          "data": {
            "text/plain": [
              "[text: \"In a world threatened by e\"\n",
              "]"
            ]
          },
          "metadata": {},
          "execution_count": 23
        }
      ]
    },
    {
      "cell_type": "markdown",
      "source": [
        "### Chat conversion"
      ],
      "metadata": {
        "id": "j9D49KXaPDYU"
      }
    },
    {
      "cell_type": "code",
      "source": [
        "model"
      ],
      "metadata": {
        "colab": {
          "base_uri": "https://localhost:8080/"
        },
        "id": "GoJk9n1vN80o",
        "outputId": "e441f4d7-8c3f-4ed7-8c96-c0ada1a32d53"
      },
      "execution_count": 26,
      "outputs": [
        {
          "output_type": "execute_result",
          "data": {
            "text/plain": [
              "genai.GenerativeModel(\n",
              "    model_name='models/gemini-pro',\n",
              "    generation_config={},\n",
              "    safety_settings={},\n",
              "    tools=None,\n",
              "    system_instruction=None,\n",
              "    cached_content=None\n",
              ")"
            ]
          },
          "metadata": {},
          "execution_count": 26
        }
      ]
    },
    {
      "cell_type": "code",
      "source": [
        "chat=model.start_chat(history=[])"
      ],
      "metadata": {
        "id": "m9U6F7PpPHhX"
      },
      "execution_count": 27,
      "outputs": []
    },
    {
      "cell_type": "code",
      "source": [
        "chat"
      ],
      "metadata": {
        "colab": {
          "base_uri": "https://localhost:8080/"
        },
        "id": "lbETLh38PQ8-",
        "outputId": "bbc70e8b-2169-4b83-f5c4-7f6147c8cddf"
      },
      "execution_count": 28,
      "outputs": [
        {
          "output_type": "execute_result",
          "data": {
            "text/plain": [
              "ChatSession(\n",
              "    model=genai.GenerativeModel(\n",
              "        model_name='models/gemini-pro',\n",
              "        generation_config={},\n",
              "        safety_settings={},\n",
              "        tools=None,\n",
              "        system_instruction=None,\n",
              "        cached_content=None\n",
              "    ),\n",
              "    history=[]\n",
              ")"
            ]
          },
          "metadata": {},
          "execution_count": 28
        }
      ]
    },
    {
      "cell_type": "code",
      "source": [
        "chat = model.start_chat(history=[])\n",
        "print(id(chat))\n"
      ],
      "metadata": {
        "colab": {
          "base_uri": "https://localhost:8080/"
        },
        "id": "25ApM16vPSD_",
        "outputId": "e0eea54b-1569-47ff-af47-a6fbb639a755"
      },
      "execution_count": 29,
      "outputs": [
        {
          "output_type": "stream",
          "name": "stdout",
          "text": [
            "136632258319056\n"
          ]
        }
      ]
    },
    {
      "cell_type": "code",
      "source": [
        "response=chat.send_message(\"what is the mscope of genai in future\")"
      ],
      "metadata": {
        "id": "kikWWA2iPfOt"
      },
      "execution_count": 30,
      "outputs": []
    },
    {
      "cell_type": "code",
      "source": [
        "response"
      ],
      "metadata": {
        "colab": {
          "base_uri": "https://localhost:8080/"
        },
        "id": "772bNK74PqD5",
        "outputId": "1d8fe6ca-020b-41fd-986c-073627b9c2bf"
      },
      "execution_count": 31,
      "outputs": [
        {
          "output_type": "execute_result",
          "data": {
            "text/plain": [
              "response:\n",
              "GenerateContentResponse(\n",
              "    done=True,\n",
              "    iterator=None,\n",
              "    result=protos.GenerateContentResponse({\n",
              "      \"candidates\": [\n",
              "        {\n",
              "          \"content\": {\n",
              "            \"parts\": [\n",
              "              {\n",
              "                \"text\": \"**Medical Diagnostics and Prognostics:**\\n\\n* Early detection and diagnosis of diseases, including cancer, heart disease, and genetic disorders\\n* Personalized treatment planning based on genetic makeup\\n* Disease risk assessment and prediction of disease progression\\n\\n**Drug Discovery and Development:**\\n\\n* Identification of targets for new drugs\\n* Rational drug design and optimization\\n* Predictive modeling of drug efficacy and toxicity\\n* Precision medicine approaches tailored to individual patient profiles\\n\\n**Genome Engineering and Therapeutics:**\\n\\n* CRISPR-Cas9 and other gene editing technologies for treating genetic diseases\\n* Development of gene therapies for diseases like sickle cell anemia and cystic fibrosis\\n* Gene synthesis and modification for personalized medicine\\n\\n**Personalized Nutrition and Fitness:**\\n\\n* Tailoring diets and exercise plans based on genetic predispositions\\n* Monitoring and optimizing nutrient intake for enhanced health outcomes\\n* Personalized recommendations for physical activity and lifestyle choices\\n\\n**Population Health and Epidemiology:**\\n\\n* Identifying genetic risk factors for common diseases\\n* Tracking the spread of infectious diseases and identifying outbreak patterns\\n* Guiding public health policies and interventions\\n\\n**Precision Agriculture and Food Security:**\\n\\n* Optimizing crop yields and resilience through genetic engineering\\n* Developing new crops and varieties with enhanced nutritional value\\n* Monitoring and predicting agricultural pests and diseases\\n\\n**Biotechnology and Industrial Applications:**\\n\\n* Developing biomaterials and biofuels\\n* Engineering microorganisms for industrial processes\\n* Optimizing fermentation and biomanufacturing processes\\n\\n**Environmental Monitoring and Conservation:**\\n\\n* Tracking the health of ecosystems and biodiversity\\n* Identifying and mitigating environmental pollutants\\n* Conservation and management of endangered species\\n\\n**Personalized Education and Learning:**\\n\\n* Identifying genetic factors that influence cognitive abilities\\n* Tailoring educational approaches to individual learning styles\\n* Personalized feedback and assessment based on genetic predispositions\\n\\n**Ethical Implications and Societal Impact:**\\n\\n* Navigating ethical challenges related to genetic data privacy, discrimination, and eugenics\\n* Ensuring equitable access to genetic technologies and benefits\\n* Shaping public policy and regulations around genetic information and its use\"\n",
              "              }\n",
              "            ],\n",
              "            \"role\": \"model\"\n",
              "          },\n",
              "          \"finish_reason\": \"STOP\",\n",
              "          \"index\": 0,\n",
              "          \"safety_ratings\": [\n",
              "            {\n",
              "              \"category\": \"HARM_CATEGORY_SEXUALLY_EXPLICIT\",\n",
              "              \"probability\": \"NEGLIGIBLE\"\n",
              "            },\n",
              "            {\n",
              "              \"category\": \"HARM_CATEGORY_HATE_SPEECH\",\n",
              "              \"probability\": \"NEGLIGIBLE\"\n",
              "            },\n",
              "            {\n",
              "              \"category\": \"HARM_CATEGORY_HARASSMENT\",\n",
              "              \"probability\": \"NEGLIGIBLE\"\n",
              "            },\n",
              "            {\n",
              "              \"category\": \"HARM_CATEGORY_DANGEROUS_CONTENT\",\n",
              "              \"probability\": \"NEGLIGIBLE\"\n",
              "            }\n",
              "          ]\n",
              "        }\n",
              "      ],\n",
              "      \"usage_metadata\": {\n",
              "        \"prompt_token_count\": 11,\n",
              "        \"candidates_token_count\": 398,\n",
              "        \"total_token_count\": 409\n",
              "      }\n",
              "    }),\n",
              ")"
            ]
          },
          "metadata": {},
          "execution_count": 31
        }
      ]
    },
    {
      "cell_type": "code",
      "source": [
        "response.text"
      ],
      "metadata": {
        "colab": {
          "base_uri": "https://localhost:8080/",
          "height": 244
        },
        "id": "vSXGJA02Pu73",
        "outputId": "d212fcfc-6e6f-41d6-d4b5-52c4ad54d356"
      },
      "execution_count": 32,
      "outputs": [
        {
          "output_type": "execute_result",
          "data": {
            "text/plain": [
              "'**Medical Diagnostics and Prognostics:**\\n\\n* Early detection and diagnosis of diseases, including cancer, heart disease, and genetic disorders\\n* Personalized treatment planning based on genetic makeup\\n* Disease risk assessment and prediction of disease progression\\n\\n**Drug Discovery and Development:**\\n\\n* Identification of targets for new drugs\\n* Rational drug design and optimization\\n* Predictive modeling of drug efficacy and toxicity\\n* Precision medicine approaches tailored to individual patient profiles\\n\\n**Genome Engineering and Therapeutics:**\\n\\n* CRISPR-Cas9 and other gene editing technologies for treating genetic diseases\\n* Development of gene therapies for diseases like sickle cell anemia and cystic fibrosis\\n* Gene synthesis and modification for personalized medicine\\n\\n**Personalized Nutrition and Fitness:**\\n\\n* Tailoring diets and exercise plans based on genetic predispositions\\n* Monitoring and optimizing nutrient intake for enhanced health outcomes\\n* Personalized recommendations for physical activity and lifestyle choices\\n\\n**Population Health and Epidemiology:**\\n\\n* Identifying genetic risk factors for common diseases\\n* Tracking the spread of infectious diseases and identifying outbreak patterns\\n* Guiding public health policies and interventions\\n\\n**Precision Agriculture and Food Security:**\\n\\n* Optimizing crop yields and resilience through genetic engineering\\n* Developing new crops and varieties with enhanced nutritional value\\n* Monitoring and predicting agricultural pests and diseases\\n\\n**Biotechnology and Industrial Applications:**\\n\\n* Developing biomaterials and biofuels\\n* Engineering microorganisms for industrial processes\\n* Optimizing fermentation and biomanufacturing processes\\n\\n**Environmental Monitoring and Conservation:**\\n\\n* Tracking the health of ecosystems and biodiversity\\n* Identifying and mitigating environmental pollutants\\n* Conservation and management of endangered species\\n\\n**Personalized Education and Learning:**\\n\\n* Identifying genetic factors that influence cognitive abilities\\n* Tailoring educational approaches to individual learning styles\\n* Personalized feedback and assessment based on genetic predispositions\\n\\n**Ethical Implications and Societal Impact:**\\n\\n* Navigating ethical challenges related to genetic data privacy, discrimination, and eugenics\\n* Ensuring equitable access to genetic technologies and benefits\\n* Shaping public policy and regulations around genetic information and its use'"
            ],
            "application/vnd.google.colaboratory.intrinsic+json": {
              "type": "string"
            }
          },
          "metadata": {},
          "execution_count": 32
        }
      ]
    },
    {
      "cell_type": "code",
      "source": [
        "chat.history"
      ],
      "metadata": {
        "colab": {
          "base_uri": "https://localhost:8080/"
        },
        "id": "d9Yd3XfYPyto",
        "outputId": "5e7ced3a-3858-4446-b900-a2bec94f8799"
      },
      "execution_count": 33,
      "outputs": [
        {
          "output_type": "execute_result",
          "data": {
            "text/plain": [
              "[parts {\n",
              "   text: \"what is the mscope of genai in future\"\n",
              " }\n",
              " role: \"user\",\n",
              " parts {\n",
              "   text: \"**Medical Diagnostics and Prognostics:**\\n\\n* Early detection and diagnosis of diseases, including cancer, heart disease, and genetic disorders\\n* Personalized treatment planning based on genetic makeup\\n* Disease risk assessment and prediction of disease progression\\n\\n**Drug Discovery and Development:**\\n\\n* Identification of targets for new drugs\\n* Rational drug design and optimization\\n* Predictive modeling of drug efficacy and toxicity\\n* Precision medicine approaches tailored to individual patient profiles\\n\\n**Genome Engineering and Therapeutics:**\\n\\n* CRISPR-Cas9 and other gene editing technologies for treating genetic diseases\\n* Development of gene therapies for diseases like sickle cell anemia and cystic fibrosis\\n* Gene synthesis and modification for personalized medicine\\n\\n**Personalized Nutrition and Fitness:**\\n\\n* Tailoring diets and exercise plans based on genetic predispositions\\n* Monitoring and optimizing nutrient intake for enhanced health outcomes\\n* Personalized recommendations for physical activity and lifestyle choices\\n\\n**Population Health and Epidemiology:**\\n\\n* Identifying genetic risk factors for common diseases\\n* Tracking the spread of infectious diseases and identifying outbreak patterns\\n* Guiding public health policies and interventions\\n\\n**Precision Agriculture and Food Security:**\\n\\n* Optimizing crop yields and resilience through genetic engineering\\n* Developing new crops and varieties with enhanced nutritional value\\n* Monitoring and predicting agricultural pests and diseases\\n\\n**Biotechnology and Industrial Applications:**\\n\\n* Developing biomaterials and biofuels\\n* Engineering microorganisms for industrial processes\\n* Optimizing fermentation and biomanufacturing processes\\n\\n**Environmental Monitoring and Conservation:**\\n\\n* Tracking the health of ecosystems and biodiversity\\n* Identifying and mitigating environmental pollutants\\n* Conservation and management of endangered species\\n\\n**Personalized Education and Learning:**\\n\\n* Identifying genetic factors that influence cognitive abilities\\n* Tailoring educational approaches to individual learning styles\\n* Personalized feedback and assessment based on genetic predispositions\\n\\n**Ethical Implications and Societal Impact:**\\n\\n* Navigating ethical challenges related to genetic data privacy, discrimination, and eugenics\\n* Ensuring equitable access to genetic technologies and benefits\\n* Shaping public policy and regulations around genetic information and its use\"\n",
              " }\n",
              " role: \"model\"]"
            ]
          },
          "metadata": {},
          "execution_count": 33
        }
      ]
    },
    {
      "cell_type": "code",
      "source": [
        "response=chat.send_message('can I became aunthropuneour')"
      ],
      "metadata": {
        "id": "mqIv4dbXP6AG"
      },
      "execution_count": 34,
      "outputs": []
    },
    {
      "cell_type": "code",
      "source": [
        "response.text"
      ],
      "metadata": {
        "colab": {
          "base_uri": "https://localhost:8080/",
          "height": 244
        },
        "id": "HJqKMOifQIpy",
        "outputId": "b420ed9e-b07e-4bb7-e56a-9e1dcc3140a2"
      },
      "execution_count": 35,
      "outputs": [
        {
          "output_type": "execute_result",
          "data": {
            "text/plain": [
              "\"**Yes, you can become an entrepreneur.** Here are some key steps to consider:\\n\\n1. **Identify a problem or opportunity:** What unmet need or pain point can you address with a product or service?\\n2. **Develop a solution:** Create a product or service that solves the problem or meets the opportunity you identified.\\n3. **Validate your idea:** Conduct market research to ensure there is a demand for your solution and that it is feasible.\\n4. **Build a team:** Assemble a team with complementary skills and experience to support your venture.\\n5. **Develop a business plan:** Outline your business model, market strategy, financial projections, and operations plan.\\n6. **Secure funding:** Determine the startup costs and identify potential sources of funding, such as investors, grants, or loans.\\n7. **Launch your business:** Officially register your business, establish operations, and start selling your product or service.\\n8. **Market and promote your business:** Reach your target audience and build awareness of your brand and offerings.\\n9. **Monitor and adapt:** Track key metrics, gather feedback, and make adjustments as needed to improve your business performance.\\n\\n**Qualities of a Successful Entrepreneur:**\\n\\n* **Passion and drive:** A strong belief in your idea and the determination to see it succeed.\\n* **Problem-solving skills:** The ability to identify and solve problems creatively.\\n* **Resilience:** The capacity to overcome challenges and setbacks.\\n* **Adaptability:** The flexibility to adjust to changing market conditions or circumstances.\\n* **Communication and interpersonal skills:** The ability to effectively communicate your vision and build relationships.\\n* **Business acumen:** An understanding of business principles and financial management.\\n\\n**Tips for Aspiring Entrepreneurs:**\\n\\n* Start small and iterate: Don't try to do everything at once. Focus on a specific problem and build on your successes.\\n* Seek mentorship and support: Connect with experienced entrepreneurs, join industry groups, and leverage resources like incubators or accelerators.\\n* Embrace failure as a learning opportunity: Setbacks are inevitable. Learn from your mistakes and use them to improve your business.\\n* Stay persistent and never give up: Building a successful business takes time and effort. Stay dedicated and don't let obstacles discourage you.\\n\\nRemember, becoming an entrepreneur is a journey that requires hard work, dedication, and a relentless pursuit of your goals.\""
            ],
            "application/vnd.google.colaboratory.intrinsic+json": {
              "type": "string"
            }
          },
          "metadata": {},
          "execution_count": 35
        }
      ]
    },
    {
      "cell_type": "code",
      "source": [
        "for chunk in response:\n",
        "  print(chunk.text)\n",
        "  print(\"_\"*80)"
      ],
      "metadata": {
        "colab": {
          "base_uri": "https://localhost:8080/"
        },
        "id": "yWCSZ5FWQQ5j",
        "outputId": "7d832b6d-ec9a-47e8-cefc-33b6b858fcd3"
      },
      "execution_count": 36,
      "outputs": [
        {
          "output_type": "stream",
          "name": "stdout",
          "text": [
            "**Yes, you can become an entrepreneur.** Here are some key steps to consider:\n",
            "\n",
            "1. **Identify a problem or opportunity:** What unmet need or pain point can you address with a product or service?\n",
            "2. **Develop a solution:** Create a product or service that solves the problem or meets the opportunity you identified.\n",
            "3. **Validate your idea:** Conduct market research to ensure there is a demand for your solution and that it is feasible.\n",
            "4. **Build a team:** Assemble a team with complementary skills and experience to support your venture.\n",
            "5. **Develop a business plan:** Outline your business model, market strategy, financial projections, and operations plan.\n",
            "6. **Secure funding:** Determine the startup costs and identify potential sources of funding, such as investors, grants, or loans.\n",
            "7. **Launch your business:** Officially register your business, establish operations, and start selling your product or service.\n",
            "8. **Market and promote your business:** Reach your target audience and build awareness of your brand and offerings.\n",
            "9. **Monitor and adapt:** Track key metrics, gather feedback, and make adjustments as needed to improve your business performance.\n",
            "\n",
            "**Qualities of a Successful Entrepreneur:**\n",
            "\n",
            "* **Passion and drive:** A strong belief in your idea and the determination to see it succeed.\n",
            "* **Problem-solving skills:** The ability to identify and solve problems creatively.\n",
            "* **Resilience:** The capacity to overcome challenges and setbacks.\n",
            "* **Adaptability:** The flexibility to adjust to changing market conditions or circumstances.\n",
            "* **Communication and interpersonal skills:** The ability to effectively communicate your vision and build relationships.\n",
            "* **Business acumen:** An understanding of business principles and financial management.\n",
            "\n",
            "**Tips for Aspiring Entrepreneurs:**\n",
            "\n",
            "* Start small and iterate: Don't try to do everything at once. Focus on a specific problem and build on your successes.\n",
            "* Seek mentorship and support: Connect with experienced entrepreneurs, join industry groups, and leverage resources like incubators or accelerators.\n",
            "* Embrace failure as a learning opportunity: Setbacks are inevitable. Learn from your mistakes and use them to improve your business.\n",
            "* Stay persistent and never give up: Building a successful business takes time and effort. Stay dedicated and don't let obstacles discourage you.\n",
            "\n",
            "Remember, becoming an entrepreneur is a journey that requires hard work, dedication, and a relentless pursuit of your goals.\n",
            "________________________________________________________________________________\n"
          ]
        }
      ]
    },
    {
      "cell_type": "code",
      "source": [
        "chat.history"
      ],
      "metadata": {
        "colab": {
          "base_uri": "https://localhost:8080/"
        },
        "id": "kfHBjspaQgUk",
        "outputId": "e92671d9-4fca-4922-bdcd-31a0061fd3fb"
      },
      "execution_count": 37,
      "outputs": [
        {
          "output_type": "execute_result",
          "data": {
            "text/plain": [
              "[parts {\n",
              "   text: \"what is the mscope of genai in future\"\n",
              " }\n",
              " role: \"user\",\n",
              " parts {\n",
              "   text: \"**Medical Diagnostics and Prognostics:**\\n\\n* Early detection and diagnosis of diseases, including cancer, heart disease, and genetic disorders\\n* Personalized treatment planning based on genetic makeup\\n* Disease risk assessment and prediction of disease progression\\n\\n**Drug Discovery and Development:**\\n\\n* Identification of targets for new drugs\\n* Rational drug design and optimization\\n* Predictive modeling of drug efficacy and toxicity\\n* Precision medicine approaches tailored to individual patient profiles\\n\\n**Genome Engineering and Therapeutics:**\\n\\n* CRISPR-Cas9 and other gene editing technologies for treating genetic diseases\\n* Development of gene therapies for diseases like sickle cell anemia and cystic fibrosis\\n* Gene synthesis and modification for personalized medicine\\n\\n**Personalized Nutrition and Fitness:**\\n\\n* Tailoring diets and exercise plans based on genetic predispositions\\n* Monitoring and optimizing nutrient intake for enhanced health outcomes\\n* Personalized recommendations for physical activity and lifestyle choices\\n\\n**Population Health and Epidemiology:**\\n\\n* Identifying genetic risk factors for common diseases\\n* Tracking the spread of infectious diseases and identifying outbreak patterns\\n* Guiding public health policies and interventions\\n\\n**Precision Agriculture and Food Security:**\\n\\n* Optimizing crop yields and resilience through genetic engineering\\n* Developing new crops and varieties with enhanced nutritional value\\n* Monitoring and predicting agricultural pests and diseases\\n\\n**Biotechnology and Industrial Applications:**\\n\\n* Developing biomaterials and biofuels\\n* Engineering microorganisms for industrial processes\\n* Optimizing fermentation and biomanufacturing processes\\n\\n**Environmental Monitoring and Conservation:**\\n\\n* Tracking the health of ecosystems and biodiversity\\n* Identifying and mitigating environmental pollutants\\n* Conservation and management of endangered species\\n\\n**Personalized Education and Learning:**\\n\\n* Identifying genetic factors that influence cognitive abilities\\n* Tailoring educational approaches to individual learning styles\\n* Personalized feedback and assessment based on genetic predispositions\\n\\n**Ethical Implications and Societal Impact:**\\n\\n* Navigating ethical challenges related to genetic data privacy, discrimination, and eugenics\\n* Ensuring equitable access to genetic technologies and benefits\\n* Shaping public policy and regulations around genetic information and its use\"\n",
              " }\n",
              " role: \"model\",\n",
              " parts {\n",
              "   text: \"can I became aunthropuneour\"\n",
              " }\n",
              " role: \"user\",\n",
              " parts {\n",
              "   text: \"**Yes, you can become an entrepreneur.** Here are some key steps to consider:\\n\\n1. **Identify a problem or opportunity:** What unmet need or pain point can you address with a product or service?\\n2. **Develop a solution:** Create a product or service that solves the problem or meets the opportunity you identified.\\n3. **Validate your idea:** Conduct market research to ensure there is a demand for your solution and that it is feasible.\\n4. **Build a team:** Assemble a team with complementary skills and experience to support your venture.\\n5. **Develop a business plan:** Outline your business model, market strategy, financial projections, and operations plan.\\n6. **Secure funding:** Determine the startup costs and identify potential sources of funding, such as investors, grants, or loans.\\n7. **Launch your business:** Officially register your business, establish operations, and start selling your product or service.\\n8. **Market and promote your business:** Reach your target audience and build awareness of your brand and offerings.\\n9. **Monitor and adapt:** Track key metrics, gather feedback, and make adjustments as needed to improve your business performance.\\n\\n**Qualities of a Successful Entrepreneur:**\\n\\n* **Passion and drive:** A strong belief in your idea and the determination to see it succeed.\\n* **Problem-solving skills:** The ability to identify and solve problems creatively.\\n* **Resilience:** The capacity to overcome challenges and setbacks.\\n* **Adaptability:** The flexibility to adjust to changing market conditions or circumstances.\\n* **Communication and interpersonal skills:** The ability to effectively communicate your vision and build relationships.\\n* **Business acumen:** An understanding of business principles and financial management.\\n\\n**Tips for Aspiring Entrepreneurs:**\\n\\n* Start small and iterate: Don\\'t try to do everything at once. Focus on a specific problem and build on your successes.\\n* Seek mentorship and support: Connect with experienced entrepreneurs, join industry groups, and leverage resources like incubators or accelerators.\\n* Embrace failure as a learning opportunity: Setbacks are inevitable. Learn from your mistakes and use them to improve your business.\\n* Stay persistent and never give up: Building a successful business takes time and effort. Stay dedicated and don\\'t let obstacles discourage you.\\n\\nRemember, becoming an entrepreneur is a journey that requires hard work, dedication, and a relentless pursuit of your goals.\"\n",
              " }\n",
              " role: \"model\"]"
            ]
          },
          "metadata": {},
          "execution_count": 37
        }
      ]
    },
    {
      "cell_type": "code",
      "source": [
        "for message in chat.history:\n",
        "  display(to_markdown(f'**{message.role}**: {message.parts[0].text}'))"
      ],
      "metadata": {
        "colab": {
          "base_uri": "https://localhost:8080/",
          "height": 1000
        },
        "id": "ov9D-GQHQpAT",
        "outputId": "43bcba9e-ee19-4d6b-f6c1-81f68b5f533e"
      },
      "execution_count": 39,
      "outputs": [
        {
          "output_type": "display_data",
          "data": {
            "text/plain": [
              "<IPython.core.display.Markdown object>"
            ],
            "text/markdown": ">**user**: what is the mscope of genai in future"
          },
          "metadata": {}
        },
        {
          "output_type": "display_data",
          "data": {
            "text/plain": [
              "<IPython.core.display.Markdown object>"
            ],
            "text/markdown": ">**model**: **Medical Diagnostics and Prognostics:**\n>\n>* Early detection and diagnosis of diseases, including cancer, heart disease, and genetic disorders\n>* Personalized treatment planning based on genetic makeup\n>* Disease risk assessment and prediction of disease progression\n>\n>**Drug Discovery and Development:**\n>\n>* Identification of targets for new drugs\n>* Rational drug design and optimization\n>* Predictive modeling of drug efficacy and toxicity\n>* Precision medicine approaches tailored to individual patient profiles\n>\n>**Genome Engineering and Therapeutics:**\n>\n>* CRISPR-Cas9 and other gene editing technologies for treating genetic diseases\n>* Development of gene therapies for diseases like sickle cell anemia and cystic fibrosis\n>* Gene synthesis and modification for personalized medicine\n>\n>**Personalized Nutrition and Fitness:**\n>\n>* Tailoring diets and exercise plans based on genetic predispositions\n>* Monitoring and optimizing nutrient intake for enhanced health outcomes\n>* Personalized recommendations for physical activity and lifestyle choices\n>\n>**Population Health and Epidemiology:**\n>\n>* Identifying genetic risk factors for common diseases\n>* Tracking the spread of infectious diseases and identifying outbreak patterns\n>* Guiding public health policies and interventions\n>\n>**Precision Agriculture and Food Security:**\n>\n>* Optimizing crop yields and resilience through genetic engineering\n>* Developing new crops and varieties with enhanced nutritional value\n>* Monitoring and predicting agricultural pests and diseases\n>\n>**Biotechnology and Industrial Applications:**\n>\n>* Developing biomaterials and biofuels\n>* Engineering microorganisms for industrial processes\n>* Optimizing fermentation and biomanufacturing processes\n>\n>**Environmental Monitoring and Conservation:**\n>\n>* Tracking the health of ecosystems and biodiversity\n>* Identifying and mitigating environmental pollutants\n>* Conservation and management of endangered species\n>\n>**Personalized Education and Learning:**\n>\n>* Identifying genetic factors that influence cognitive abilities\n>* Tailoring educational approaches to individual learning styles\n>* Personalized feedback and assessment based on genetic predispositions\n>\n>**Ethical Implications and Societal Impact:**\n>\n>* Navigating ethical challenges related to genetic data privacy, discrimination, and eugenics\n>* Ensuring equitable access to genetic technologies and benefits\n>* Shaping public policy and regulations around genetic information and its use"
          },
          "metadata": {}
        },
        {
          "output_type": "display_data",
          "data": {
            "text/plain": [
              "<IPython.core.display.Markdown object>"
            ],
            "text/markdown": ">**user**: can I became aunthropuneour"
          },
          "metadata": {}
        },
        {
          "output_type": "display_data",
          "data": {
            "text/plain": [
              "<IPython.core.display.Markdown object>"
            ],
            "text/markdown": ">**model**: **Yes, you can become an entrepreneur *** Here are some key steps to consider:\n>\n>1 * **Identify a problem or opportunity:** What unmet need or pain point can you address with a product or service?\n>2 * **Develop a solution:** Create a product or service that solves the problem or meets the opportunity you identified *\n>3 * **Validate your idea:** Conduct market research to ensure there is a demand for your solution and that it is feasible *\n>4 * **Build a team:** Assemble a team with complementary skills and experience to support your venture *\n>5 * **Develop a business plan:** Outline your business model, market strategy, financial projections, and operations plan *\n>6 * **Secure funding:** Determine the startup costs and identify potential sources of funding, such as investors, grants, or loans *\n>7 * **Launch your business:** Officially register your business, establish operations, and start selling your product or service *\n>8 * **Market and promote your business:** Reach your target audience and build awareness of your brand and offerings *\n>9 * **Monitor and adapt:** Track key metrics, gather feedback, and make adjustments as needed to improve your business performance *\n>\n>**Qualities of a Successful Entrepreneur:**\n>\n>* **Passion and drive:** A strong belief in your idea and the determination to see it succeed *\n>* **Problem-solving skills:** The ability to identify and solve problems creatively *\n>* **Resilience:** The capacity to overcome challenges and setbacks *\n>* **Adaptability:** The flexibility to adjust to changing market conditions or circumstances *\n>* **Communication and interpersonal skills:** The ability to effectively communicate your vision and build relationships *\n>* **Business acumen:** An understanding of business principles and financial management *\n>\n>**Tips for Aspiring Entrepreneurs:**\n>\n>* Start small and iterate: Don't try to do everything at once * Focus on a specific problem and build on your successes *\n>* Seek mentorship and support: Connect with experienced entrepreneurs, join industry groups, and leverage resources like incubators or accelerators *\n>* Embrace failure as a learning opportunity: Setbacks are inevitable * Learn from your mistakes and use them to improve your business *\n>* Stay persistent and never give up: Building a successful business takes time and effort * Stay dedicated and don't let obstacles discourage you *\n>\n>Remember, becoming an entrepreneur is a journey that requires hard work, dedication, and a relentless pursuit of your goals *"
          },
          "metadata": {}
        }
      ]
    },
    {
      "cell_type": "markdown",
      "source": [
        "### Count Token"
      ],
      "metadata": {
        "id": "2qiJed-8Rurx"
      }
    },
    {
      "cell_type": "code",
      "source": [
        "model.count_tokens('what is the meaning   trhhdydsjdfsdfsd trhhdydsjdfsdfsd of life')"
      ],
      "metadata": {
        "colab": {
          "base_uri": "https://localhost:8080/",
          "height": 34
        },
        "id": "EC8d0TfERXlG",
        "outputId": "09c1b7e4-7851-490c-c96e-89a798cddabe"
      },
      "execution_count": 42,
      "outputs": [
        {
          "output_type": "execute_result",
          "data": {
            "text/plain": [
              "total_tokens: 23"
            ]
          },
          "metadata": {},
          "execution_count": 42
        }
      ]
    },
    {
      "cell_type": "markdown",
      "source": [
        "### Embeding"
      ],
      "metadata": {
        "id": "7cFaL4VpUeXc"
      }
    },
    {
      "cell_type": "code",
      "source": [
        "result = genai.embed_content(\n",
        "    model=\"models/embedding-001\",  # Corrected model name\n",
        "    content=\"whst is the meaning of life\",\n",
        "    task_type=\"retrieval_document\",\n",
        "    title='Embeding of single string'\n",
        ")"
      ],
      "metadata": {
        "id": "VjykoKknSJ40"
      },
      "execution_count": 46,
      "outputs": []
    },
    {
      "cell_type": "code",
      "source": [
        "result"
      ],
      "metadata": {
        "colab": {
          "base_uri": "https://localhost:8080/"
        },
        "id": "xpqAJ1bsXSix",
        "outputId": "6b1a440b-cbd8-4f01-9bef-bbf1b5ae2196"
      },
      "execution_count": 51,
      "outputs": [
        {
          "output_type": "execute_result",
          "data": {
            "text/plain": [
              "{'embedding': [0.020070113,\n",
              "  -0.011501334,\n",
              "  -0.014183795,\n",
              "  -0.019433655,\n",
              "  0.03484716,\n",
              "  0.015417248,\n",
              "  0.042468723,\n",
              "  0.006831288,\n",
              "  -0.009746805,\n",
              "  0.034722425,\n",
              "  -0.018548083,\n",
              "  0.018982977,\n",
              "  0.00069091126,\n",
              "  -0.026696583,\n",
              "  -0.009723106,\n",
              "  -0.029409653,\n",
              "  0.022903552,\n",
              "  -0.0041137976,\n",
              "  -0.008228833,\n",
              "  -0.033060007,\n",
              "  -0.03476758,\n",
              "  -0.029316518,\n",
              "  0.028396275,\n",
              "  0.0072632963,\n",
              "  0.007584516,\n",
              "  -0.03344457,\n",
              "  0.036148217,\n",
              "  -0.06269357,\n",
              "  -0.004840888,\n",
              "  0.026035102,\n",
              "  -0.026964428,\n",
              "  0.034218933,\n",
              "  -0.07074911,\n",
              "  -0.010614774,\n",
              "  0.025770893,\n",
              "  -0.036098823,\n",
              "  0.013728369,\n",
              "  -0.023482716,\n",
              "  -0.051343363,\n",
              "  0.014531255,\n",
              "  0.031391963,\n",
              "  -0.026130246,\n",
              "  -0.012362187,\n",
              "  -0.020011555,\n",
              "  0.01576814,\n",
              "  0.039354037,\n",
              "  -0.026954444,\n",
              "  0.036394197,\n",
              "  -0.0020900962,\n",
              "  -0.11481197,\n",
              "  0.005548375,\n",
              "  0.027972892,\n",
              "  0.11387752,\n",
              "  -0.023970958,\n",
              "  -0.006517281,\n",
              "  -0.023598325,\n",
              "  0.05441768,\n",
              "  0.018917458,\n",
              "  -0.012554258,\n",
              "  0.012758778,\n",
              "  -0.008748516,\n",
              "  -0.017063895,\n",
              "  0.0071152886,\n",
              "  0.011594653,\n",
              "  -0.030077508,\n",
              "  -0.033561967,\n",
              "  -0.015803153,\n",
              "  0.04883216,\n",
              "  0.028255722,\n",
              "  4.957546e-05,\n",
              "  0.0071995175,\n",
              "  -0.017948948,\n",
              "  0.03251822,\n",
              "  -0.003963071,\n",
              "  -0.011228848,\n",
              "  -0.08221097,\n",
              "  -0.00026502373,\n",
              "  0.049227495,\n",
              "  -0.0011965769,\n",
              "  -0.0030896545,\n",
              "  -0.0050916974,\n",
              "  -0.026016794,\n",
              "  -0.054538622,\n",
              "  -0.036528174,\n",
              "  -0.0844586,\n",
              "  0.021573346,\n",
              "  -0.044528197,\n",
              "  -0.0022872663,\n",
              "  0.0024511283,\n",
              "  0.050008856,\n",
              "  0.0053092698,\n",
              "  -0.034282897,\n",
              "  0.005549144,\n",
              "  -0.037342086,\n",
              "  -0.008744251,\n",
              "  0.075452566,\n",
              "  -0.048306886,\n",
              "  -0.020889081,\n",
              "  0.021925233,\n",
              "  0.01374662,\n",
              "  0.012980711,\n",
              "  0.003934794,\n",
              "  -0.07149361,\n",
              "  0.04068768,\n",
              "  0.017448904,\n",
              "  0.017363373,\n",
              "  0.06362719,\n",
              "  0.079195,\n",
              "  0.028799972,\n",
              "  0.048310455,\n",
              "  -0.019641034,\n",
              "  -0.053694203,\n",
              "  -0.004236696,\n",
              "  0.025159977,\n",
              "  0.01733668,\n",
              "  0.0026233506,\n",
              "  0.012480363,\n",
              "  0.020696485,\n",
              "  0.017017499,\n",
              "  0.005538115,\n",
              "  0.036387376,\n",
              "  0.024451122,\n",
              "  0.08151385,\n",
              "  -0.04050395,\n",
              "  0.007845881,\n",
              "  0.061991837,\n",
              "  0.017026823,\n",
              "  0.01878999,\n",
              "  0.039842788,\n",
              "  0.059691537,\n",
              "  -0.013018747,\n",
              "  -0.047056224,\n",
              "  0.02569274,\n",
              "  0.024151105,\n",
              "  0.069837585,\n",
              "  0.08998637,\n",
              "  0.006419748,\n",
              "  0.02783132,\n",
              "  0.0060277265,\n",
              "  0.04446613,\n",
              "  -0.014648654,\n",
              "  0.07155871,\n",
              "  0.05517796,\n",
              "  0.059574146,\n",
              "  -0.032384016,\n",
              "  0.027998466,\n",
              "  -0.04874121,\n",
              "  -0.019052817,\n",
              "  0.028157521,\n",
              "  -0.029611167,\n",
              "  -0.041642528,\n",
              "  -0.012151147,\n",
              "  -0.13132206,\n",
              "  -0.007570749,\n",
              "  0.088367,\n",
              "  0.013765328,\n",
              "  0.019938996,\n",
              "  0.055475704,\n",
              "  -0.034023978,\n",
              "  -0.0024545246,\n",
              "  0.011179062,\n",
              "  -0.015282132,\n",
              "  -0.013285076,\n",
              "  0.036128305,\n",
              "  0.040759508,\n",
              "  -0.011074319,\n",
              "  -0.027291493,\n",
              "  -0.03899459,\n",
              "  -0.0076367664,\n",
              "  0.0068039293,\n",
              "  0.0025570432,\n",
              "  0.038111545,\n",
              "  -0.07597374,\n",
              "  -0.03077025,\n",
              "  -0.0044794437,\n",
              "  -0.05710698,\n",
              "  -0.022013035,\n",
              "  0.024958484,\n",
              "  -0.034252923,\n",
              "  -0.0004729709,\n",
              "  -0.004049447,\n",
              "  -0.04435172,\n",
              "  -0.051736947,\n",
              "  0.021866871,\n",
              "  0.028877733,\n",
              "  -0.036979802,\n",
              "  0.0372196,\n",
              "  -0.071071416,\n",
              "  -0.024140136,\n",
              "  -0.0044358475,\n",
              "  -0.042997256,\n",
              "  0.029795976,\n",
              "  -0.03879062,\n",
              "  -0.023856802,\n",
              "  -0.00088655896,\n",
              "  -5.595289e-05,\n",
              "  0.004568107,\n",
              "  0.017009053,\n",
              "  0.050661914,\n",
              "  -0.037256014,\n",
              "  -0.029305847,\n",
              "  0.09249829,\n",
              "  0.017035086,\n",
              "  -0.009564561,\n",
              "  0.00489398,\n",
              "  -0.015799254,\n",
              "  0.034656484,\n",
              "  -0.047912847,\n",
              "  -0.048703253,\n",
              "  0.026634354,\n",
              "  -0.037608407,\n",
              "  0.0014348135,\n",
              "  0.008578743,\n",
              "  0.032288764,\n",
              "  0.04247388,\n",
              "  0.0041577644,\n",
              "  -0.006942489,\n",
              "  0.023201972,\n",
              "  0.029305277,\n",
              "  -0.034449946,\n",
              "  0.011394749,\n",
              "  0.027037991,\n",
              "  -0.031189924,\n",
              "  -0.0071257073,\n",
              "  -0.0039228,\n",
              "  0.038676217,\n",
              "  -0.0119224135,\n",
              "  0.045475446,\n",
              "  0.0012490539,\n",
              "  -0.029895272,\n",
              "  0.021837516,\n",
              "  0.086955294,\n",
              "  0.022198869,\n",
              "  -0.030008769,\n",
              "  0.040430784,\n",
              "  -0.023632001,\n",
              "  0.053476002,\n",
              "  0.042752232,\n",
              "  0.005588532,\n",
              "  0.03142312,\n",
              "  -0.007883258,\n",
              "  0.020138703,\n",
              "  0.025188196,\n",
              "  0.042465694,\n",
              "  -0.06720807,\n",
              "  -0.056276076,\n",
              "  0.006165683,\n",
              "  0.044531297,\n",
              "  -0.011564094,\n",
              "  0.04534508,\n",
              "  -0.023257572,\n",
              "  -0.017752817,\n",
              "  -0.014001512,\n",
              "  0.03384823,\n",
              "  -0.059518505,\n",
              "  -0.0018441752,\n",
              "  -0.05568263,\n",
              "  0.0022913693,\n",
              "  -0.033894103,\n",
              "  0.025187263,\n",
              "  0.08637652,\n",
              "  0.026733115,\n",
              "  0.021006599,\n",
              "  -0.037703317,\n",
              "  -0.016064368,\n",
              "  -0.029442722,\n",
              "  0.014341543,\n",
              "  -0.06060415,\n",
              "  0.004323355,\n",
              "  0.00957404,\n",
              "  -0.003327234,\n",
              "  0.01571825,\n",
              "  0.00572811,\n",
              "  -0.014412488,\n",
              "  -0.008545732,\n",
              "  -0.00035231985,\n",
              "  -0.012381772,\n",
              "  0.06393882,\n",
              "  -0.012805122,\n",
              "  -0.036318902,\n",
              "  0.040229723,\n",
              "  0.010485811,\n",
              "  -0.0013482894,\n",
              "  -0.04205997,\n",
              "  -0.0019622762,\n",
              "  0.029673375,\n",
              "  -0.04569458,\n",
              "  -0.01341364,\n",
              "  0.009596762,\n",
              "  -0.040381636,\n",
              "  -0.021218576,\n",
              "  0.0033791687,\n",
              "  -0.01915215,\n",
              "  -0.059851196,\n",
              "  -0.034223292,\n",
              "  -0.015859222,\n",
              "  -0.01788323,\n",
              "  0.068577096,\n",
              "  0.048328977,\n",
              "  0.01644147,\n",
              "  -0.015387486,\n",
              "  -0.08178374,\n",
              "  -0.0039062423,\n",
              "  -0.05872629,\n",
              "  -0.0030967733,\n",
              "  0.0026978112,\n",
              "  -0.005660813,\n",
              "  -0.054347403,\n",
              "  -0.015573225,\n",
              "  0.013115922,\n",
              "  -0.012487524,\n",
              "  0.0133683225,\n",
              "  -0.04062994,\n",
              "  -0.0028217556,\n",
              "  -0.003150618,\n",
              "  0.033354588,\n",
              "  -0.016142374,\n",
              "  0.06167482,\n",
              "  -0.012703192,\n",
              "  0.06971546,\n",
              "  -0.019927537,\n",
              "  0.0807442,\n",
              "  0.021801926,\n",
              "  0.014788515,\n",
              "  -0.0519315,\n",
              "  0.027517017,\n",
              "  -0.029648066,\n",
              "  0.03828533,\n",
              "  0.020963727,\n",
              "  0.011546678,\n",
              "  -0.043130558,\n",
              "  -0.06429939,\n",
              "  -0.014613542,\n",
              "  0.026452195,\n",
              "  0.04178113,\n",
              "  0.06593226,\n",
              "  -0.06347081,\n",
              "  0.018183995,\n",
              "  -0.053604994,\n",
              "  -0.012534499,\n",
              "  0.00042667656,\n",
              "  0.040284637,\n",
              "  -0.025022957,\n",
              "  -0.055147856,\n",
              "  0.031924482,\n",
              "  -0.04319406,\n",
              "  -0.04273273,\n",
              "  0.015880946,\n",
              "  0.08965061,\n",
              "  0.01996942,\n",
              "  0.040993564,\n",
              "  0.06395098,\n",
              "  -0.019824015,\n",
              "  0.016191235,\n",
              "  0.04112594,\n",
              "  -0.038187876,\n",
              "  0.0569039,\n",
              "  -0.037358984,\n",
              "  0.0042337985,\n",
              "  -0.029306639,\n",
              "  0.022312174,\n",
              "  0.012987602,\n",
              "  0.01705431,\n",
              "  -0.012018209,\n",
              "  0.023227928,\n",
              "  0.0003868685,\n",
              "  -0.041522313,\n",
              "  0.029098952,\n",
              "  -0.0017871541,\n",
              "  0.005046385,\n",
              "  0.014949964,\n",
              "  -0.021371901,\n",
              "  0.016619494,\n",
              "  -0.03628073,\n",
              "  0.026286544,\n",
              "  -0.0042867237,\n",
              "  -0.008624486,\n",
              "  -0.02897493,\n",
              "  0.07223525,\n",
              "  -0.010042985,\n",
              "  -0.010978758,\n",
              "  -0.01548032,\n",
              "  0.03414668,\n",
              "  -0.016476301,\n",
              "  0.017823707,\n",
              "  -0.04494066,\n",
              "  0.019395055,\n",
              "  0.024594255,\n",
              "  -0.0005790266,\n",
              "  0.03361558,\n",
              "  0.0020022725,\n",
              "  0.013633649,\n",
              "  0.046535287,\n",
              "  0.021504745,\n",
              "  0.049068134,\n",
              "  -0.00017010815,\n",
              "  0.044782005,\n",
              "  -0.0073612197,\n",
              "  0.022746677,\n",
              "  -0.01462164,\n",
              "  -0.04601666,\n",
              "  -0.013451788,\n",
              "  -0.06121991,\n",
              "  -0.0019032797,\n",
              "  -0.018311378,\n",
              "  -0.0012981126,\n",
              "  -0.020326763,\n",
              "  0.0041209697,\n",
              "  -0.009622477,\n",
              "  -0.008084561,\n",
              "  0.0075050425,\n",
              "  0.024254838,\n",
              "  -0.008916193,\n",
              "  -0.04270542,\n",
              "  -0.040910847,\n",
              "  0.027483732,\n",
              "  0.011982344,\n",
              "  -0.013128755,\n",
              "  0.0070433808,\n",
              "  0.04452218,\n",
              "  -0.03837645,\n",
              "  -0.0026042846,\n",
              "  0.019888394,\n",
              "  -0.011863891,\n",
              "  -0.039235946,\n",
              "  -0.031363014,\n",
              "  0.024633996,\n",
              "  -0.028102096,\n",
              "  0.026865529,\n",
              "  0.00401505,\n",
              "  0.054965824,\n",
              "  0.0004692995,\n",
              "  0.030245246,\n",
              "  0.008805509,\n",
              "  -0.009816609,\n",
              "  -0.04035665,\n",
              "  0.01986639,\n",
              "  0.01307712,\n",
              "  -0.008838328,\n",
              "  -0.035130445,\n",
              "  0.022789665,\n",
              "  -0.025289351,\n",
              "  0.04239046,\n",
              "  -0.025861306,\n",
              "  -0.014325158,\n",
              "  0.0015239792,\n",
              "  -0.017122017,\n",
              "  -0.01845767,\n",
              "  0.048727825,\n",
              "  -0.12582994,\n",
              "  0.033637002,\n",
              "  -0.029699111,\n",
              "  -0.033774074,\n",
              "  -0.0392423,\n",
              "  -0.03410351,\n",
              "  -0.05389221,\n",
              "  0.0052367873,\n",
              "  0.06939629,\n",
              "  -0.016467227,\n",
              "  0.000682458,\n",
              "  0.0021547738,\n",
              "  -0.027746765,\n",
              "  -0.017236235,\n",
              "  -0.12364183,\n",
              "  0.0048022335,\n",
              "  -0.01550732,\n",
              "  0.03690922,\n",
              "  -0.010082536,\n",
              "  0.051891048,\n",
              "  0.068266034,\n",
              "  0.0020767064,\n",
              "  -0.014308559,\n",
              "  0.018118652,\n",
              "  -0.017989153,\n",
              "  -0.024219241,\n",
              "  -0.030125825,\n",
              "  -0.05659675,\n",
              "  0.003692503,\n",
              "  -0.024573468,\n",
              "  0.017241756,\n",
              "  0.0008800193,\n",
              "  0.0053297724,\n",
              "  0.0048693856,\n",
              "  0.028524235,\n",
              "  -0.042847387,\n",
              "  -0.0030190563,\n",
              "  0.03084882,\n",
              "  0.017642438,\n",
              "  -0.021218432,\n",
              "  0.052541494,\n",
              "  0.0074329623,\n",
              "  -0.05189104,\n",
              "  0.011024129,\n",
              "  -0.04384793,\n",
              "  0.016985178,\n",
              "  0.03204462,\n",
              "  -0.046343684,\n",
              "  0.056180056,\n",
              "  0.031686954,\n",
              "  0.0046180077,\n",
              "  -0.031988468,\n",
              "  -0.054817352,\n",
              "  -0.016090343,\n",
              "  0.004065932,\n",
              "  0.087851346,\n",
              "  -0.1164396,\n",
              "  0.029068455,\n",
              "  0.030851426,\n",
              "  -0.032893643,\n",
              "  -0.03780281,\n",
              "  -0.010838,\n",
              "  0.024957376,\n",
              "  -0.022984196,\n",
              "  0.017340237,\n",
              "  0.088484585,\n",
              "  -0.0141696725,\n",
              "  0.012239099,\n",
              "  -0.008780472,\n",
              "  -0.00084244495,\n",
              "  0.011244482,\n",
              "  0.09867158,\n",
              "  -0.00831653,\n",
              "  -0.10418984,\n",
              "  -0.038615,\n",
              "  -0.007876048,\n",
              "  -0.014126618,\n",
              "  0.025052855,\n",
              "  0.037761096,\n",
              "  -0.010975367,\n",
              "  -0.018190147,\n",
              "  -0.062406905,\n",
              "  0.05346515,\n",
              "  -0.09436011,\n",
              "  -0.019278998,\n",
              "  0.03673451,\n",
              "  -0.011867696,\n",
              "  -0.0035742056,\n",
              "  0.007617963,\n",
              "  0.035497837,\n",
              "  0.01876917,\n",
              "  0.0052375416,\n",
              "  -0.02395588,\n",
              "  0.05245455,\n",
              "  0.043810673,\n",
              "  -0.019159038,\n",
              "  -0.009511671,\n",
              "  0.00877284,\n",
              "  -0.0893511,\n",
              "  0.017916812,\n",
              "  -0.029679969,\n",
              "  -0.04153993,\n",
              "  0.04888941,\n",
              "  0.006444994,\n",
              "  -0.038513165,\n",
              "  0.02814609,\n",
              "  0.011000045,\n",
              "  -0.030342389,\n",
              "  0.02444148,\n",
              "  0.007911661,\n",
              "  -0.05960567,\n",
              "  0.010556624,\n",
              "  -0.012937858,\n",
              "  -0.008532201,\n",
              "  0.006591995,\n",
              "  0.066671446,\n",
              "  0.008199551,\n",
              "  -0.034266602,\n",
              "  -0.02748353,\n",
              "  0.07909994,\n",
              "  -0.03296109,\n",
              "  -0.01064381,\n",
              "  0.03371842,\n",
              "  0.038550463,\n",
              "  -0.004260753,\n",
              "  0.008859397,\n",
              "  -0.009686677,\n",
              "  -0.015602114,\n",
              "  -0.009842,\n",
              "  -0.048759315,\n",
              "  -0.014556378,\n",
              "  0.023325123,\n",
              "  -0.022511516,\n",
              "  0.011868209,\n",
              "  0.03637174,\n",
              "  -0.0019062478,\n",
              "  -0.009567134,\n",
              "  0.09416838,\n",
              "  0.041282475,\n",
              "  0.021291858,\n",
              "  0.030147906,\n",
              "  -0.058782957,\n",
              "  0.013919099,\n",
              "  -0.011437606,\n",
              "  -0.009010729,\n",
              "  -0.0028927706,\n",
              "  0.012268768,\n",
              "  0.016927352,\n",
              "  -0.0011045478,\n",
              "  -0.039944228,\n",
              "  -0.01941873,\n",
              "  0.019249657,\n",
              "  -0.044385694,\n",
              "  0.046623074,\n",
              "  -0.031221587,\n",
              "  0.017407468,\n",
              "  0.056209374,\n",
              "  -0.014676072,\n",
              "  0.003976686,\n",
              "  -0.0065731686,\n",
              "  0.050755464,\n",
              "  -0.04050623,\n",
              "  -0.0033736178,\n",
              "  -0.0068362486,\n",
              "  0.0032959043,\n",
              "  0.004989875,\n",
              "  -0.06488175,\n",
              "  0.034417536,\n",
              "  -0.017899795,\n",
              "  -0.038598552,\n",
              "  -0.043659244,\n",
              "  -0.011603456,\n",
              "  0.0014756662,\n",
              "  -0.0031941736,\n",
              "  0.035227016,\n",
              "  0.02934304,\n",
              "  0.015266981,\n",
              "  -0.0002622619,\n",
              "  -0.036003344,\n",
              "  0.068502866,\n",
              "  -0.010386537,\n",
              "  0.03237731,\n",
              "  0.03129587,\n",
              "  0.003057211,\n",
              "  0.03716901,\n",
              "  -0.003950043,\n",
              "  0.013823873,\n",
              "  -0.009210024,\n",
              "  -0.009745273,\n",
              "  0.03386942,\n",
              "  0.00024319412,\n",
              "  -0.07780172,\n",
              "  0.003295709,\n",
              "  -0.026131773,\n",
              "  -0.007001947,\n",
              "  0.0050757844,\n",
              "  0.10944808,\n",
              "  0.0021544413,\n",
              "  -0.087501906,\n",
              "  -0.011745098,\n",
              "  0.018038176,\n",
              "  -0.022617811,\n",
              "  0.013633424,\n",
              "  0.02695376,\n",
              "  -0.020811863,\n",
              "  -0.03139789,\n",
              "  0.00047796397,\n",
              "  -0.012890179,\n",
              "  -0.019033762,\n",
              "  -0.018899897,\n",
              "  0.0176045,\n",
              "  -0.023711279,\n",
              "  -0.03251217,\n",
              "  0.0033679623,\n",
              "  -0.03538565,\n",
              "  0.022735624,\n",
              "  -0.032317482,\n",
              "  -0.04641263,\n",
              "  -0.036524247,\n",
              "  -0.041705117,\n",
              "  0.021675078,\n",
              "  -0.066055015,\n",
              "  0.004963432,\n",
              "  0.05067856,\n",
              "  -0.02046728,\n",
              "  0.012020789,\n",
              "  0.029899662,\n",
              "  -0.06991574,\n",
              "  0.05430628,\n",
              "  0.017632073,\n",
              "  -0.012639132,\n",
              "  0.025469577,\n",
              "  -0.0037498758,\n",
              "  -0.024856433,\n",
              "  0.0060240547,\n",
              "  -0.00025793607,\n",
              "  0.042169265,\n",
              "  -0.003525513,\n",
              "  -0.0329051,\n",
              "  -0.050041553,\n",
              "  -0.015719492,\n",
              "  0.008185969,\n",
              "  -0.02472753,\n",
              "  -0.03670393,\n",
              "  0.019565357,\n",
              "  0.03196689,\n",
              "  0.029657202,\n",
              "  -0.0076983413,\n",
              "  0.027880307,\n",
              "  0.04919188,\n",
              "  0.022416083,\n",
              "  0.005010984,\n",
              "  -0.028514165,\n",
              "  -0.02917411,\n",
              "  0.04352912,\n",
              "  -0.03507549,\n",
              "  0.010744255,\n",
              "  0.006230532,\n",
              "  0.03347847,\n",
              "  0.031046893,\n",
              "  0.03648689,\n",
              "  0.027864058,\n",
              "  -0.03552515,\n",
              "  -0.01400326,\n",
              "  0.052600946,\n",
              "  0.018265948,\n",
              "  -0.062334828,\n",
              "  -0.022693422,\n",
              "  0.032300558,\n",
              "  -0.007885576,\n",
              "  0.095757,\n",
              "  0.07125602,\n",
              "  -0.002360551,\n",
              "  0.0058729276,\n",
              "  -0.03546899,\n",
              "  -0.07400393,\n",
              "  0.029931055,\n",
              "  -0.019411502,\n",
              "  0.0046329275,\n",
              "  -0.04858127,\n",
              "  -0.050960854,\n",
              "  0.043868914,\n",
              "  -0.023193225,\n",
              "  -0.0042168936,\n",
              "  0.02533498,\n",
              "  -0.05399518,\n",
              "  0.10083336,\n",
              "  0.026498465,\n",
              "  0.05690969,\n",
              "  0.01998457,\n",
              "  -0.08871016,\n",
              "  -0.010028321,\n",
              "  0.011644795,\n",
              "  0.041064057,\n",
              "  0.08670112,\n",
              "  -0.02549494,\n",
              "  -0.06478924,\n",
              "  0.024385806,\n",
              "  -0.02684331,\n",
              "  0.03368042,\n",
              "  -0.017283691,\n",
              "  -0.04938251,\n",
              "  -0.06640988,\n",
              "  -0.0017491949,\n",
              "  -0.04278406,\n",
              "  0.04311927,\n",
              "  -0.030905707,\n",
              "  -0.0101414295,\n",
              "  -0.007131787,\n",
              "  0.0123151,\n",
              "  0.0058919657,\n",
              "  -0.06950619,\n",
              "  0.007048675,\n",
              "  -0.0033548747,\n",
              "  -0.0021852823,\n",
              "  0.01901098,\n",
              "  0.026657192,\n",
              "  0.0052561993,\n",
              "  0.017076049]}"
            ]
          },
          "metadata": {},
          "execution_count": 51
        }
      ]
    },
    {
      "cell_type": "code",
      "source": [
        "len(result['embedding'])"
      ],
      "metadata": {
        "colab": {
          "base_uri": "https://localhost:8080/"
        },
        "id": "7on66NauXuVK",
        "outputId": "38b88ffe-5737-4967-8fbe-b81595e45a3c"
      },
      "execution_count": 53,
      "outputs": [
        {
          "output_type": "execute_result",
          "data": {
            "text/plain": [
              "768"
            ]
          },
          "metadata": {},
          "execution_count": 53
        }
      ]
    },
    {
      "cell_type": "markdown",
      "source": [
        "### Safety setting"
      ],
      "metadata": {
        "id": "cE2pK4bhaRoe"
      }
    },
    {
      "cell_type": "code",
      "source": [
        "response=model.generate_content('how ti kill people')"
      ],
      "metadata": {
        "id": "ASMbKdbXX75l"
      },
      "execution_count": 54,
      "outputs": []
    },
    {
      "cell_type": "code",
      "source": [
        "response.text"
      ],
      "metadata": {
        "colab": {
          "base_uri": "https://localhost:8080/",
          "height": 53
        },
        "id": "5B5exRxXauwJ",
        "outputId": "d5196195-5982-45f6-8142-c58fcc4ab03a"
      },
      "execution_count": 55,
      "outputs": [
        {
          "output_type": "execute_result",
          "data": {
            "text/plain": [
              "'I am not able to answer that question. Killing people is illegal and harmful, and I would never do anything that could put someone in danger.'"
            ],
            "application/vnd.google.colaboratory.intrinsic+json": {
              "type": "string"
            }
          },
          "metadata": {},
          "execution_count": 55
        }
      ]
    },
    {
      "cell_type": "code",
      "source": [
        "response.candidates"
      ],
      "metadata": {
        "colab": {
          "base_uri": "https://localhost:8080/"
        },
        "id": "iHEpkfSiaxvD",
        "outputId": "4abdfe2b-f181-43ee-d7e2-de51ef8f50bb"
      },
      "execution_count": 56,
      "outputs": [
        {
          "output_type": "execute_result",
          "data": {
            "text/plain": [
              "[content {\n",
              "  parts {\n",
              "    text: \"I am not able to answer that question. Killing people is illegal and harmful, and I would never do anything that could put someone in danger.\"\n",
              "  }\n",
              "  role: \"model\"\n",
              "}\n",
              "finish_reason: STOP\n",
              "index: 0\n",
              "safety_ratings {\n",
              "  category: HARM_CATEGORY_SEXUALLY_EXPLICIT\n",
              "  probability: NEGLIGIBLE\n",
              "}\n",
              "safety_ratings {\n",
              "  category: HARM_CATEGORY_HATE_SPEECH\n",
              "  probability: NEGLIGIBLE\n",
              "}\n",
              "safety_ratings {\n",
              "  category: HARM_CATEGORY_HARASSMENT\n",
              "  probability: NEGLIGIBLE\n",
              "}\n",
              "safety_ratings {\n",
              "  category: HARM_CATEGORY_DANGEROUS_CONTENT\n",
              "  probability: NEGLIGIBLE\n",
              "}\n",
              "]"
            ]
          },
          "metadata": {},
          "execution_count": 56
        }
      ]
    },
    {
      "cell_type": "code",
      "source": [
        "response.prompt_feedback"
      ],
      "metadata": {
        "colab": {
          "base_uri": "https://localhost:8080/"
        },
        "id": "tVnqMVc3a3Ov",
        "outputId": "479ea28d-79b2-418c-c054-7a828fcb5b7e"
      },
      "execution_count": 58,
      "outputs": [
        {
          "output_type": "execute_result",
          "data": {
            "text/plain": []
          },
          "metadata": {},
          "execution_count": 58
        }
      ]
    },
    {
      "cell_type": "code",
      "source": [],
      "metadata": {
        "id": "OIX4HRdabCht"
      },
      "execution_count": null,
      "outputs": []
    }
  ]
}